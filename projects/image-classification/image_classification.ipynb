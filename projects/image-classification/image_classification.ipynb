{
 "cells": [
  {
   "cell_type": "markdown",
   "metadata": {
    "collapsed": true
   },
   "source": [
    "# Image Classification\n",
    "In this project, you'll classify images from the [CIFAR-10 dataset](https://www.cs.toronto.edu/~kriz/cifar.html).  The dataset consists of airplanes, dogs, cats, and other objects. You'll preprocess the images, then train a convolutional neural network on all the samples. The images need to be normalized and the labels need to be one-hot encoded.  You'll get to apply what you learned and build a convolutional, max pooling, dropout, and fully connected layers.  At the end, you'll get to see your neural network's predictions on the sample images.\n",
    "## Get the Data\n",
    "Run the following cell to download the [CIFAR-10 dataset for python](https://www.cs.toronto.edu/~kriz/cifar-10-python.tar.gz)."
   ]
  },
  {
   "cell_type": "code",
   "execution_count": 1,
   "metadata": {
    "collapsed": false
   },
   "outputs": [
    {
     "name": "stderr",
     "output_type": "stream",
     "text": [
      "CIFAR-10 Dataset: 171MB [00:36, 4.66MB/s]                              \n"
     ]
    },
    {
     "name": "stdout",
     "output_type": "stream",
     "text": [
      "All files found!\n"
     ]
    }
   ],
   "source": [
    "\"\"\"\n",
    "DON'T MODIFY ANYTHING IN THIS CELL THAT IS BELOW THIS LINE\n",
    "\"\"\"\n",
    "from urllib.request import urlretrieve\n",
    "from os.path import isfile, isdir\n",
    "from tqdm import tqdm\n",
    "import problem_unittests as tests\n",
    "import tarfile\n",
    "\n",
    "cifar10_dataset_folder_path = 'cifar-10-batches-py'\n",
    "\n",
    "class DLProgress(tqdm):\n",
    "    last_block = 0\n",
    "\n",
    "    def hook(self, block_num=1, block_size=1, total_size=None):\n",
    "        self.total = total_size\n",
    "        self.update((block_num - self.last_block) * block_size)\n",
    "        self.last_block = block_num\n",
    "\n",
    "if not isfile('cifar-10-python.tar.gz'):\n",
    "    with DLProgress(unit='B', unit_scale=True, miniters=1, desc='CIFAR-10 Dataset') as pbar:\n",
    "        urlretrieve(\n",
    "            'https://www.cs.toronto.edu/~kriz/cifar-10-python.tar.gz',\n",
    "            'cifar-10-python.tar.gz',\n",
    "            pbar.hook)\n",
    "\n",
    "if not isdir(cifar10_dataset_folder_path):\n",
    "    with tarfile.open('cifar-10-python.tar.gz') as tar:\n",
    "        tar.extractall()\n",
    "        tar.close()\n",
    "\n",
    "\n",
    "tests.test_folder_path(cifar10_dataset_folder_path)"
   ]
  },
  {
   "cell_type": "markdown",
   "metadata": {},
   "source": [
    "## Explore the Data\n",
    "The dataset is broken into batches to prevent your machine from running out of memory.  The CIFAR-10 dataset consists of 5 batches, named `data_batch_1`, `data_batch_2`, etc.. Each batch contains the labels and images that are one of the following:\n",
    "* airplane\n",
    "* automobile\n",
    "* bird\n",
    "* cat\n",
    "* deer\n",
    "* dog\n",
    "* frog\n",
    "* horse\n",
    "* ship\n",
    "* truck\n",
    "\n",
    "Understanding a dataset is part of making predictions on the data.  Play around with the code cell below by changing the `batch_id` and `sample_id`. The `batch_id` is the id for a batch (1-5). The `sample_id` is the id for a image and label pair in the batch.\n",
    "\n",
    "Ask yourself \"What are all possible labels?\", \"What is the range of values for the image data?\", \"Are the labels in order or random?\".  Answers to questions like these will help you preprocess the data and end up with better predictions."
   ]
  },
  {
   "cell_type": "code",
   "execution_count": 2,
   "metadata": {
    "collapsed": false
   },
   "outputs": [
    {
     "name": "stderr",
     "output_type": "stream",
     "text": [
      "/home/wengyao04/anaconda3/lib/python3.6/site-packages/matplotlib/font_manager.py:280: UserWarning: Matplotlib is building the font cache using fc-list. This may take a moment.\n",
      "  'Matplotlib is building the font cache using fc-list. '\n"
     ]
    },
    {
     "name": "stdout",
     "output_type": "stream",
     "text": [
      "\n",
      "Stats of batch 1:\n",
      "Samples: 10000\n",
      "Label Counts: {0: 1005, 1: 974, 2: 1032, 3: 1016, 4: 999, 5: 937, 6: 1030, 7: 1001, 8: 1025, 9: 981}\n",
      "First 20 Labels: [6, 9, 9, 4, 1, 1, 2, 7, 8, 3, 4, 7, 7, 2, 9, 9, 9, 3, 2, 6]\n",
      "\n",
      "Example of Image 5:\n",
      "Image - Min Value: 0 Max Value: 252\n",
      "Image - Shape: (32, 32, 3)\n",
      "Label - Label Id: 1 Name: automobile\n"
     ]
    },
    {
     "data": {
      "image/png": "[encoded data removed]",
      "text/plain": [
       "<matplotlib.figure.Figure at 0x7f9882f45fd0>"
      ]
     },
     "metadata": {
      "image/png": {
       "height": 250,
       "width": 253
      }
     },
     "output_type": "display_data"
    }
   ],
   "source": [
    "%matplotlib inline\n",
    "%config InlineBackend.figure_format = 'retina'\n",
    "\n",
    "import helper\n",
    "import numpy as np\n",
    "\n",
    "# Explore the dataset\n",
    "batch_id = 1\n",
    "sample_id = 5\n",
    "helper.display_stats(cifar10_dataset_folder_path, batch_id, sample_id)"
   ]
  },
  {
   "cell_type": "markdown",
   "metadata": {},
   "source": [
    "## Implement Preprocess Functions\n",
    "### Normalize\n",
    "In the cell below, implement the `normalize` function to take in image data, `x`, and return it as a normalized Numpy array. The values should be in the range of 0 to 1, inclusive.  The return object should be the same shape as `x`."
   ]
  },
  {
   "cell_type": "code",
   "execution_count": 3,
   "metadata": {
    "collapsed": false
   },
   "outputs": [
    {
     "name": "stdout",
     "output_type": "stream",
     "text": [
      "Tests Passed\n"
     ]
    }
   ],
   "source": [
    "def normalize(x):\n",
    "    \"\"\"\n",
    "    Normalize a list of sample image data in the range of 0 to 1\n",
    "    : x: List of image data.  The image shape is (32, 32, 3)\n",
    "    : return: Numpy array of normalize data\n",
    "    \"\"\"\n",
    "    # min-max\n",
    "    amin = np.amin(x)\n",
    "    amax = np.amax(x)\n",
    "    return (x - amin) / (amax - amin)\n",
    "\n",
    "\"\"\"\n",
    "DON'T MODIFY ANYTHING IN THIS CELL THAT IS BELOW THIS LINE\n",
    "\"\"\"\n",
    "tests.test_normalize(normalize)"
   ]
  },
  {
   "cell_type": "markdown",
   "metadata": {},
   "source": [
    "### One-hot encode\n",
    "Just like the previous code cell, you'll be implementing a function for preprocessing.  This time, you'll implement the `one_hot_encode` function. The input, `x`, are a list of labels.  Implement the function to return the list of labels as One-Hot encoded Numpy array.  The possible values for labels are 0 to 9. The one-hot encoding function should return the same encoding for each value between each call to `one_hot_encode`.  Make sure to save the map of encodings outside the function.\n",
    "\n",
    "**Hint:**\n",
    "\n",
    "Look into LabelBinarizer in the preprocessing module of sklearn."
   ]
  },
  {
   "cell_type": "code",
   "execution_count": 4,
   "metadata": {
    "collapsed": false
   },
   "outputs": [
    {
     "name": "stdout",
     "output_type": "stream",
     "text": [
      "Tests Passed\n"
     ]
    }
   ],
   "source": [
    "N_CATEGORY = 10\n",
    "def one_hot_encode(x):\n",
    "    \"\"\"\n",
    "    One hot encode a list of sample labels. Return a one-hot encoded vector for each label.\n",
    "    : x: List of sample Labels\n",
    "    : return: Numpy array of one-hot encoded labels\n",
    "    \"\"\"\n",
    "    # TODO: Implement Function\n",
    "    x_length = len(x)\n",
    "    ret = np.zeros(shape=(x_length, N_CATEGORY))\n",
    "    for i in range(x_length):\n",
    "        ret[i][x[i]] = 1\n",
    "    return ret\n",
    "\n",
    "\n",
    "\"\"\"\n",
    "DON'T MODIFY ANYTHING IN THIS CELL THAT IS BELOW THIS LINE\n",
    "\"\"\"\n",
    "tests.test_one_hot_encode(one_hot_encode)"
   ]
  },
  {
   "cell_type": "markdown",
   "metadata": {},
   "source": [
    "### Randomize Data\n",
    "As you saw from exploring the data above, the order of the samples are randomized.  It doesn't hurt to randomize it again, but you don't need to for this dataset."
   ]
  },
  {
   "cell_type": "markdown",
   "metadata": {},
   "source": [
    "## Preprocess all the data and save it\n",
    "Running the code cell below will preprocess all the CIFAR-10 data and save it to file. The code below also uses 10% of the training data for validation."
   ]
  },
  {
   "cell_type": "code",
   "execution_count": 5,
   "metadata": {
    "collapsed": true
   },
   "outputs": [],
   "source": [
    "\"\"\"\n",
    "DON'T MODIFY ANYTHING IN THIS CELL\n",
    "\"\"\"\n",
    "# Preprocess Training, Validation, and Testing Data\n",
    "helper.preprocess_and_save_data(cifar10_dataset_folder_path, normalize, one_hot_encode)"
   ]
  },
  {
   "cell_type": "markdown",
   "metadata": {},
   "source": [
    "# Check Point\n",
    "This is your first checkpoint.  If you ever decide to come back to this notebook or have to restart the notebook, you can start from here.  The preprocessed data has been saved to disk."
   ]
  },
  {
   "cell_type": "code",
   "execution_count": 6,
   "metadata": {
    "collapsed": true
   },
   "outputs": [],
   "source": [
    "\"\"\"\n",
    "DON'T MODIFY ANYTHING IN THIS CELL\n",
    "\"\"\"\n",
    "import pickle\n",
    "import problem_unittests as tests\n",
    "import helper\n",
    "\n",
    "# Load the Preprocessed Validation data\n",
    "valid_features, valid_labels = pickle.load(open('preprocess_validation.p', mode='rb'))"
   ]
  },
  {
   "cell_type": "markdown",
   "metadata": {},
   "source": [
    "## Build the network\n",
    "For the neural network, you'll build each layer into a function.  Most of the code you've seen has been outside of functions. To test your code more thoroughly, we require that you put each layer in a function.  This allows us to give you better feedback and test for simple mistakes using our unittests before you submit your project.\n",
    "\n",
    ">**Note:** If you're finding it hard to dedicate enough time for this course each week, we've provided a small shortcut to this part of the project. In the next couple of problems, you'll have the option to use classes from the [TensorFlow Layers](https://www.tensorflow.org/api_docs/python/tf/layers) or [TensorFlow Layers (contrib)](https://www.tensorflow.org/api_guides/python/contrib.layers) packages to build each layer, except the layers you build in the \"Convolutional and Max Pooling Layer\" section.  TF Layers is similar to Keras's and TFLearn's abstraction to layers, so it's easy to pickup.\n",
    "\n",
    ">However, if you would like to get the most out of this course, try to solve all the problems _without_ using anything from the TF Layers packages. You **can** still use classes from other packages that happen to have the same name as ones you find in TF Layers! For example, instead of using the TF Layers version of the `conv2d` class, [tf.layers.conv2d](https://www.tensorflow.org/api_docs/python/tf/layers/conv2d), you would want to use the TF Neural Network version of `conv2d`, [tf.nn.conv2d](https://www.tensorflow.org/api_docs/python/tf/nn/conv2d). \n",
    "\n",
    "Let's begin!\n",
    "\n",
    "### Input\n",
    "The neural network needs to read the image data, one-hot encoded labels, and dropout keep probability. Implement the following functions\n",
    "* Implement `neural_net_image_input`\n",
    " * Return a [TF Placeholder](https://www.tensorflow.org/api_docs/python/tf/placeholder)\n",
    " * Set the shape using `image_shape` with batch size set to `None`.\n",
    " * Name the TensorFlow placeholder \"x\" using the TensorFlow `name` parameter in the [TF Placeholder](https://www.tensorflow.org/api_docs/python/tf/placeholder).\n",
    "* Implement `neural_net_label_input`\n",
    " * Return a [TF Placeholder](https://www.tensorflow.org/api_docs/python/tf/placeholder)\n",
    " * Set the shape using `n_classes` with batch size set to `None`.\n",
    " * Name the TensorFlow placeholder \"y\" using the TensorFlow `name` parameter in the [TF Placeholder](https://www.tensorflow.org/api_docs/python/tf/placeholder).\n",
    "* Implement `neural_net_keep_prob_input`\n",
    " * Return a [TF Placeholder](https://www.tensorflow.org/api_docs/python/tf/placeholder) for dropout keep probability.\n",
    " * Name the TensorFlow placeholder \"keep_prob\" using the TensorFlow `name` parameter in the [TF Placeholder](https://www.tensorflow.org/api_docs/python/tf/placeholder).\n",
    "\n",
    "These names will be used at the end of the project to load your saved model.\n",
    "\n",
    "Note: `None` for shapes in TensorFlow allow for a dynamic size."
   ]
  },
  {
   "cell_type": "code",
   "execution_count": 7,
   "metadata": {
    "collapsed": false
   },
   "outputs": [
    {
     "name": "stdout",
     "output_type": "stream",
     "text": [
      "Image Input Tests Passed.\n",
      "Label Input Tests Passed.\n",
      "Keep Prob Tests Passed.\n"
     ]
    }
   ],
   "source": [
    "import tensorflow as tf\n",
    "\n",
    "def neural_net_image_input(image_shape):\n",
    "    \"\"\"\n",
    "    Return a Tensor for a batch of image input\n",
    "    : image_shape: Shape of the images\n",
    "    : return: Tensor for image input.\n",
    "    \"\"\"\n",
    "    # TODO: Implement Function\n",
    "    return tf.placeholder(tf.float32, \\\n",
    "                          shape = [None, image_shape[0], image_shape[1], image_shape[2]], name = 'x')\n",
    "\n",
    "\n",
    "def neural_net_label_input(n_classes):\n",
    "    \"\"\"\n",
    "    Return a Tensor for a batch of label input\n",
    "    : n_classes: Number of classes\n",
    "    : return: Tensor for label input.\n",
    "    \"\"\"\n",
    "    # TODO: Implement Function\n",
    "    return tf.placeholder(tf.float32, shape = [None, n_classes], name = 'y')\n",
    "\n",
    "\n",
    "def neural_net_keep_prob_input():\n",
    "    \"\"\"\n",
    "    Return a Tensor for keep probability\n",
    "    : return: Tensor for keep probability.\n",
    "    \"\"\"\n",
    "    # TODO: Implement Function\n",
    "    return tf.placeholder(tf.float32, name = 'keep_prob')\n",
    "\n",
    "\"\"\"\n",
    "DON'T MODIFY ANYTHING IN THIS CELL THAT IS BELOW THIS LINE\n",
    "\"\"\"\n",
    "tf.reset_default_graph()\n",
    "tests.test_nn_image_inputs(neural_net_image_input)\n",
    "tests.test_nn_label_inputs(neural_net_label_input)\n",
    "tests.test_nn_keep_prob_inputs(neural_net_keep_prob_input)"
   ]
  },
  {
   "cell_type": "markdown",
   "metadata": {},
   "source": [
    "### Convolution and Max Pooling Layer\n",
    "Convolution layers have a lot of success with images. For this code cell, you should implement the function `conv2d_maxpool` to apply convolution then max pooling:\n",
    "* Create the weight and bias using `conv_ksize`, `conv_num_outputs` and the shape of `x_tensor`.\n",
    "* Apply a convolution to `x_tensor` using weight and `conv_strides`.\n",
    " * We recommend you use same padding, but you're welcome to use any padding.\n",
    "* Add bias\n",
    "* Add a nonlinear activation to the convolution.\n",
    "* Apply Max Pooling using `pool_ksize` and `pool_strides`.\n",
    " * We recommend you use same padding, but you're welcome to use any padding.\n",
    "\n",
    "**Note:** You **can't** use [TensorFlow Layers](https://www.tensorflow.org/api_docs/python/tf/layers) or [TensorFlow Layers (contrib)](https://www.tensorflow.org/api_guides/python/contrib.layers) for **this** layer, but you can still use TensorFlow's [Neural Network](https://www.tensorflow.org/api_docs/python/tf/nn) package. You may still use the shortcut option for all the **other** layers.\n",
    "\n",
    "** Hint: **\n",
    "\n",
    "When unpacking values as an argument in Python, look into the [unpacking](https://docs.python.org/3/tutorial/controlflow.html#unpacking-argument-lists) operator. "
   ]
  },
  {
   "cell_type": "code",
   "execution_count": 8,
   "metadata": {
    "collapsed": false
   },
   "outputs": [
    {
     "name": "stdout",
     "output_type": "stream",
     "text": [
      "Tests Passed\n"
     ]
    }
   ],
   "source": [
    "def conv2d_maxpool(x_tensor, conv_num_outputs, conv_ksize, conv_strides, pool_ksize, pool_strides):\n",
    "    \"\"\"\n",
    "    Apply convolution then max pooling to x_tensor\n",
    "    :param x_tensor: TensorFlow Tensor\n",
    "    :param conv_num_outputs: Number of outputs for the convolutional layer\n",
    "    :param conv_ksize: kernal size 2-D Tuple for the convolutional layer\n",
    "    :param conv_strides: Stride 2-D Tuple for convolution\n",
    "    :param pool_ksize: kernal size 2-D Tuple for pool\n",
    "    :param pool_strides: Stride 2-D Tuple for pool\n",
    "    : return: A tensor that represents convolution and max pooling of x_tensor\n",
    "    \"\"\"\n",
    "    # TODO: Implement Function\n",
    "    #print (x_tensor)\n",
    "    #print (conv_num_outputs)\n",
    "    #print (conv_ksize)\n",
    "    #print (conv_strides)\n",
    "    #print (pool_ksize)\n",
    "    #print (pool_strides)\n",
    "    \n",
    "    weight_shape = [conv_ksize[0], conv_ksize[1], x_tensor.get_shape().as_list()[-1], conv_num_outputs]\n",
    "    weight = tf.Variable(tf.random_normal(shape = weight_shape, stddev = 0.01))\n",
    "    \n",
    "    bias = tf.Variable(tf.zeros(conv_num_outputs, dtype = tf.float32))\n",
    "    \n",
    "    conv_layer = tf.nn.conv2d(x_tensor, weight, strides=[1, conv_strides[0], conv_strides[1], 1], padding='SAME')\n",
    "    conv_layer = tf.nn.bias_add(conv_layer, bias)\n",
    "    conv_layer = tf.nn.relu(conv_layer)\n",
    "    conv_layer = tf.nn.max_pool(conv_layer, ksize=[1, pool_ksize[0], pool_ksize[1], 1], \\\n",
    "                          strides=[1, pool_strides[0], pool_strides[1], 1], padding='SAME')\n",
    "    \n",
    "    return conv_layer\n",
    "\n",
    "\n",
    "\"\"\"\n",
    "DON'T MODIFY ANYTHING IN THIS CELL THAT IS BELOW THIS LINE\n",
    "\"\"\"\n",
    "tests.test_con_pool(conv2d_maxpool)"
   ]
  },
  {
   "cell_type": "markdown",
   "metadata": {},
   "source": [
    "### Flatten Layer\n",
    "Implement the `flatten` function to change the dimension of `x_tensor` from a 4-D tensor to a 2-D tensor.  The output should be the shape (*Batch Size*, *Flattened Image Size*). Shortcut option: you can use classes from the [TensorFlow Layers](https://www.tensorflow.org/api_docs/python/tf/layers) or [TensorFlow Layers (contrib)](https://www.tensorflow.org/api_guides/python/contrib.layers) packages for this layer. For more of a challenge, only use other TensorFlow packages."
   ]
  },
  {
   "cell_type": "code",
   "execution_count": 9,
   "metadata": {
    "collapsed": false
   },
   "outputs": [
    {
     "name": "stdout",
     "output_type": "stream",
     "text": [
      "Tests Passed\n"
     ]
    }
   ],
   "source": [
    "def flatten(x_tensor):\n",
    "    \"\"\"\n",
    "    Flatten x_tensor to (Batch Size, Flattened Image Size)\n",
    "    : x_tensor: A tensor of size (Batch Size, ...), where ... are the image dimensions.\n",
    "    : return: A tensor of size (Batch Size, Flattened Image Size).\n",
    "    \"\"\"\n",
    "    # TODO: Implement Function\n",
    "    tensor_shape = x_tensor.get_shape().as_list()\n",
    "    flattend_image_size = tensor_shape[1] * tensor_shape[2] * tensor_shape[3]\n",
    "    #batch is None\n",
    "    return tf.reshape(x_tensor, [tf.shape(x_tensor)[0], flattend_image_size])\n",
    "\n",
    "\n",
    "\"\"\"\n",
    "DON'T MODIFY ANYTHING IN THIS CELL THAT IS BELOW THIS LINE\n",
    "\"\"\"\n",
    "tests.test_flatten(flatten)"
   ]
  },
  {
   "cell_type": "markdown",
   "metadata": {},
   "source": [
    "### Fully-Connected Layer\n",
    "Implement the `fully_conn` function to apply a fully connected layer to `x_tensor` with the shape (*Batch Size*, *num_outputs*). Shortcut option: you can use classes from the [TensorFlow Layers](https://www.tensorflow.org/api_docs/python/tf/layers) or [TensorFlow Layers (contrib)](https://www.tensorflow.org/api_guides/python/contrib.layers) packages for this layer. For more of a challenge, only use other TensorFlow packages."
   ]
  },
  {
   "cell_type": "code",
   "execution_count": 10,
   "metadata": {
    "collapsed": false
   },
   "outputs": [
    {
     "name": "stdout",
     "output_type": "stream",
     "text": [
      "Tests Passed\n"
     ]
    }
   ],
   "source": [
    "def fully_conn(x_tensor, num_outputs):\n",
    "    \"\"\"\n",
    "    Apply a fully connected layer to x_tensor using weight and bias\n",
    "    : x_tensor: A 2-D tensor where the first dimension is batch size.\n",
    "    : num_outputs: The number of output that the new tensor should be.\n",
    "    : return: A 2-D tensor where the second dimension is num_outputs.\n",
    "    \"\"\"\n",
    "    # TODO: Implement Function\n",
    "    tensor_shape = x_tensor.get_shape().as_list()\n",
    "    weight = tf.Variable(tf.random_normal(shape = [tensor_shape[1], num_outputs], stddev = 0.01))\n",
    "    bias = tf.Variable(tf.zeros(num_outputs, tf.float32))\n",
    "    \n",
    "    full_connected_layer = tf.add(tf.matmul(x_tensor, weight), bias)\n",
    "    full_connected_layer = tf.nn.relu(full_connected_layer)\n",
    "    \n",
    "    return full_connected_layer\n",
    "\n",
    "\n",
    "\"\"\"\n",
    "DON'T MODIFY ANYTHING IN THIS CELL THAT IS BELOW THIS LINE\n",
    "\"\"\"\n",
    "tests.test_fully_conn(fully_conn)"
   ]
  },
  {
   "cell_type": "markdown",
   "metadata": {},
   "source": [
    "### Output Layer\n",
    "Implement the `output` function to apply a fully connected layer to `x_tensor` with the shape (*Batch Size*, *num_outputs*). Shortcut option: you can use classes from the [TensorFlow Layers](https://www.tensorflow.org/api_docs/python/tf/layers) or [TensorFlow Layers (contrib)](https://www.tensorflow.org/api_guides/python/contrib.layers) packages for this layer. For more of a challenge, only use other TensorFlow packages.\n",
    "\n",
    "**Note:** Activation, softmax, or cross entropy should **not** be applied to this."
   ]
  },
  {
   "cell_type": "code",
   "execution_count": 11,
   "metadata": {
    "collapsed": false
   },
   "outputs": [
    {
     "name": "stdout",
     "output_type": "stream",
     "text": [
      "Tests Passed\n"
     ]
    }
   ],
   "source": [
    "def output(x_tensor, num_outputs):\n",
    "    \"\"\"\n",
    "    Apply a output layer to x_tensor using weight and bias\n",
    "    : x_tensor: A 2-D tensor where the first dimension is batch size.\n",
    "    : num_outputs: The number of output that the new tensor should be.\n",
    "    : return: A 2-D tensor where the second dimension is num_outputs.\n",
    "    \"\"\"\n",
    "    # TODO: Implement Function\n",
    "    tensor_shape = x_tensor.get_shape().as_list()\n",
    "    weight = tf.Variable(tf.random_normal(shape = [tensor_shape[1], num_outputs], stddev = 0.01))\n",
    "    bias = tf.Variable(tf.zeros(num_outputs, tf.float32))\n",
    "    \n",
    "    output_layer = tf.add(tf.matmul(x_tensor, weight), bias)\n",
    "    return output_layer\n",
    "\n",
    "\n",
    "\"\"\"\n",
    "DON'T MODIFY ANYTHING IN THIS CELL THAT IS BELOW THIS LINE\n",
    "\"\"\"\n",
    "tests.test_output(output)"
   ]
  },
  {
   "cell_type": "markdown",
   "metadata": {},
   "source": [
    "### Create Convolutional Model\n",
    "Implement the function `conv_net` to create a convolutional neural network model. The function takes in a batch of images, `x`, and outputs logits.  Use the layers you created above to create this model:\n",
    "\n",
    "* Apply 1, 2, or 3 Convolution and Max Pool layers\n",
    "* Apply a Flatten Layer\n",
    "* Apply 1, 2, or 3 Fully Connected Layers\n",
    "* Apply an Output Layer\n",
    "* Return the output\n",
    "* Apply [TensorFlow's Dropout](https://www.tensorflow.org/api_docs/python/tf/nn/dropout) to one or more layers in the model using `keep_prob`. "
   ]
  },
  {
   "cell_type": "code",
   "execution_count": 25,
   "metadata": {
    "collapsed": false
   },
   "outputs": [
    {
     "name": "stdout",
     "output_type": "stream",
     "text": [
      "Neural Network Built!\n"
     ]
    }
   ],
   "source": [
    "def conv_net(x, keep_prob):\n",
    "    \"\"\"\n",
    "    Create a convolutional neural network model\n",
    "    : x: Placeholder tensor that holds image data.\n",
    "    : keep_prob: Placeholder tensor that hold dropout keep probability.\n",
    "    : return: Tensor that represents logits\n",
    "    \"\"\"\n",
    "    # TODO: Apply 1, 2, or 3 Convolution and Max Pool layers\n",
    "    #    Play around with different number of outputs, kernel size and stride\n",
    "    # Function Definition from Above:\n",
    "    conv_layer1 = conv2d_maxpool(x,\n",
    "                                 conv_num_outputs = 64, \n",
    "                                 conv_ksize = [5, 5], \n",
    "                                 conv_strides = [1, 1], \n",
    "                                 pool_ksize = [3, 3], \n",
    "                                 pool_strides = [2, 2])\n",
    "    \n",
    "    conv_layer2 = conv2d_maxpool(conv_layer1,\n",
    "                                 conv_num_outputs = 128,\n",
    "                                 conv_ksize = [3, 3],\n",
    "                                 conv_strides = [1, 1],\n",
    "                                 pool_ksize = [2, 2],\n",
    "                                 pool_strides = [1, 1])\n",
    "\n",
    "    # TODO: Apply a Flatten Layer\n",
    "    # Function Definition from Above:\n",
    "    flat = flatten(conv_layer2)\n",
    "    \n",
    "\n",
    "    # TODO: Apply 1, 2, or 3 Fully Connected Layers\n",
    "    #    Play around with different number of outputs\n",
    "    # Function Definition from Above:\n",
    "    full_connect_layer = fully_conn(flat, num_outputs = 128)\n",
    "    full_connect_layer = tf.nn.dropout(full_connect_layer, keep_prob)\n",
    "    \n",
    "    # TODO: Apply an Output Layer\n",
    "    #    Set this to the number of classes\n",
    "    # Function Definition from Above:\n",
    "    #   output(x_tensor, num_outputs)\n",
    "    num_classes = 10\n",
    "    output_layer = output(full_connect_layer, num_outputs = num_classes)\n",
    "    \n",
    "    # TODO: return output\n",
    "    return output_layer\n",
    "\n",
    "\n",
    "\"\"\"\n",
    "DON'T MODIFY ANYTHING IN THIS CELL THAT IS BELOW THIS LINE\n",
    "\"\"\"\n",
    "\n",
    "##############################\n",
    "## Build the Neural Network ##\n",
    "##############################\n",
    "\n",
    "# Remove previous weights, bias, inputs, etc..\n",
    "tf.reset_default_graph()\n",
    "\n",
    "# Inputs\n",
    "x = neural_net_image_input((32, 32, 3))\n",
    "y = neural_net_label_input(10)\n",
    "keep_prob = neural_net_keep_prob_input()\n",
    "\n",
    "# Model\n",
    "logits = conv_net(x, keep_prob)\n",
    "\n",
    "# Name logits Tensor, so that is can be loaded from disk after training\n",
    "logits = tf.identity(logits, name='logits')\n",
    "\n",
    "# Loss and Optimizer\n",
    "cost = tf.reduce_mean(tf.nn.softmax_cross_entropy_with_logits(logits=logits, labels=y))\n",
    "optimizer = tf.train.AdamOptimizer().minimize(cost)\n",
    "\n",
    "# Accuracy\n",
    "correct_pred = tf.equal(tf.argmax(logits, 1), tf.argmax(y, 1))\n",
    "accuracy = tf.reduce_mean(tf.cast(correct_pred, tf.float32), name='accuracy')\n",
    "\n",
    "tests.test_conv_net(conv_net)"
   ]
  },
  {
   "cell_type": "markdown",
   "metadata": {},
   "source": [
    "## Train the Neural Network\n",
    "### Single Optimization\n",
    "Implement the function `train_neural_network` to do a single optimization.  The optimization should use `optimizer` to optimize in `session` with a `feed_dict` of the following:\n",
    "* `x` for image input\n",
    "* `y` for labels\n",
    "* `keep_prob` for keep probability for dropout\n",
    "\n",
    "This function will be called for each batch, so `tf.global_variables_initializer()` has already been called.\n",
    "\n",
    "Note: Nothing needs to be returned. This function is only optimizing the neural network."
   ]
  },
  {
   "cell_type": "code",
   "execution_count": 21,
   "metadata": {
    "collapsed": false
   },
   "outputs": [
    {
     "name": "stdout",
     "output_type": "stream",
     "text": [
      "Tests Passed\n"
     ]
    }
   ],
   "source": [
    "def train_neural_network(session, optimizer, keep_probability, feature_batch, label_batch):\n",
    "    \"\"\"\n",
    "    Optimize the session on a batch of images and labels\n",
    "    : session: Current TensorFlow session\n",
    "    : optimizer: TensorFlow optimizer function\n",
    "    : keep_probability: keep probability\n",
    "    : feature_batch: Batch of Numpy image data\n",
    "    : label_batch: Batch of Numpy label data\n",
    "    \"\"\"\n",
    "    # TODO: Implement Function\n",
    "    session.run(optimizer, feed_dict = {x: feature_batch, y: label_batch, keep_prob: keep_probability})\n",
    "\n",
    "\n",
    "\"\"\"\n",
    "DON'T MODIFY ANYTHING IN THIS CELL THAT IS BELOW THIS LINE\n",
    "\"\"\"\n",
    "tests.test_train_nn(train_neural_network)"
   ]
  },
  {
   "cell_type": "markdown",
   "metadata": {},
   "source": [
    "### Show Stats\n",
    "Implement the function `print_stats` to print loss and validation accuracy.  Use the global variables `valid_features` and `valid_labels` to calculate validation accuracy.  Use a keep probability of `1.0` to calculate the loss and validation accuracy."
   ]
  },
  {
   "cell_type": "code",
   "execution_count": 32,
   "metadata": {
    "collapsed": true
   },
   "outputs": [],
   "source": [
    "def print_stats(session, feature_batch, label_batch, cost, accuracy):\n",
    "    \"\"\"\n",
    "    Print information about loss and validation accuracy\n",
    "    : session: Current TensorFlow session\n",
    "    : feature_batch: Batch of Numpy image data\n",
    "    : label_batch: Batch of Numpy label data\n",
    "    : cost: TensorFlow cost function\n",
    "    : accuracy: TensorFlow accuracy function\n",
    "    \"\"\"\n",
    "    # TODO: Implement Function\n",
    "    loss = session.run(cost, feed_dict = {x: feature_batch, y: label_batch, keep_prob: 1})\n",
    "    accuracy = session.run(accuracy, feed_dict = {x: valid_features, y: valid_labels, keep_prob: 1})\n",
    "    \n",
    "    print (\"Loss is %f, accuracy is %f\" %(loss, accuracy))"
   ]
  },
  {
   "cell_type": "markdown",
   "metadata": {},
   "source": [
    "### Hyperparameters\n",
    "Tune the following parameters:\n",
    "* Set `epochs` to the number of iterations until the network stops learning or start overfitting\n",
    "* Set `batch_size` to the highest number that your machine has memory for.  Most people set them to common sizes of memory:\n",
    " * 64\n",
    " * 128\n",
    " * 256\n",
    " * ...\n",
    "* Set `keep_probability` to the probability of keeping a node using dropout"
   ]
  },
  {
   "cell_type": "code",
   "execution_count": 34,
   "metadata": {
    "collapsed": true
   },
   "outputs": [],
   "source": [
    "# TODO: Tune Parameters\n",
    "epochs = 50\n",
    "batch_size = 256\n",
    "keep_probability = 0.80"
   ]
  },
  {
   "cell_type": "markdown",
   "metadata": {},
   "source": [
    "### Train on a Single CIFAR-10 Batch\n",
    "Instead of training the neural network on all the CIFAR-10 batches of data, let's use a single batch. This should save time while you iterate on the model to get a better accuracy.  Once the final validation accuracy is 50% or greater, run the model on all the data in the next section."
   ]
  },
  {
   "cell_type": "code",
   "execution_count": 35,
   "metadata": {
    "collapsed": false
   },
   "outputs": [
    {
     "name": "stdout",
     "output_type": "stream",
     "text": [
      "Checking the Training on a Single Batch...\n",
      "Epoch  1, CIFAR-10 Batch 1:  Loss is 2.177928, accuracy is 0.280000\n",
      "Epoch  2, CIFAR-10 Batch 1:  Loss is 1.991757, accuracy is 0.373400\n",
      "Epoch  3, CIFAR-10 Batch 1:  Loss is 1.862649, accuracy is 0.401000\n",
      "Epoch  4, CIFAR-10 Batch 1:  Loss is 1.713212, accuracy is 0.433800\n",
      "Epoch  5, CIFAR-10 Batch 1:  Loss is 1.590503, accuracy is 0.446800\n",
      "Epoch  6, CIFAR-10 Batch 1:  Loss is 1.406877, accuracy is 0.473600\n",
      "Epoch  7, CIFAR-10 Batch 1:  Loss is 1.260325, accuracy is 0.463400\n",
      "Epoch  8, CIFAR-10 Batch 1:  Loss is 1.111280, accuracy is 0.494200\n",
      "Epoch  9, CIFAR-10 Batch 1:  Loss is 1.017385, accuracy is 0.507400\n",
      "Epoch 10, CIFAR-10 Batch 1:  Loss is 0.893882, accuracy is 0.520200\n",
      "Epoch 11, CIFAR-10 Batch 1:  Loss is 0.817546, accuracy is 0.516200\n",
      "Epoch 12, CIFAR-10 Batch 1:  Loss is 0.770641, accuracy is 0.522000\n",
      "Epoch 13, CIFAR-10 Batch 1:  Loss is 0.747840, accuracy is 0.516400\n",
      "Epoch 14, CIFAR-10 Batch 1:  Loss is 0.622101, accuracy is 0.538400\n",
      "Epoch 15, CIFAR-10 Batch 1:  Loss is 0.556177, accuracy is 0.543200\n",
      "Epoch 16, CIFAR-10 Batch 1:  Loss is 0.431457, accuracy is 0.543200\n",
      "Epoch 17, CIFAR-10 Batch 1:  Loss is 0.391844, accuracy is 0.542400\n",
      "Epoch 18, CIFAR-10 Batch 1:  Loss is 0.377760, accuracy is 0.555800\n",
      "Epoch 19, CIFAR-10 Batch 1:  Loss is 0.289132, accuracy is 0.562800\n",
      "Epoch 20, CIFAR-10 Batch 1:  Loss is 0.247426, accuracy is 0.578800\n",
      "Epoch 21, CIFAR-10 Batch 1:  Loss is 0.217214, accuracy is 0.571000\n",
      "Epoch 22, CIFAR-10 Batch 1:  Loss is 0.205343, accuracy is 0.588800\n",
      "Epoch 23, CIFAR-10 Batch 1:  Loss is 0.171309, accuracy is 0.590600\n",
      "Epoch 24, CIFAR-10 Batch 1:  Loss is 0.148882, accuracy is 0.585200\n",
      "Epoch 25, CIFAR-10 Batch 1:  Loss is 0.178276, accuracy is 0.591400\n",
      "Epoch 26, CIFAR-10 Batch 1:  Loss is 0.194798, accuracy is 0.569400\n",
      "Epoch 27, CIFAR-10 Batch 1:  Loss is 0.169986, accuracy is 0.570000\n",
      "Epoch 28, CIFAR-10 Batch 1:  Loss is 0.141922, accuracy is 0.576000\n",
      "Epoch 29, CIFAR-10 Batch 1:  Loss is 0.122213, accuracy is 0.560400\n",
      "Epoch 30, CIFAR-10 Batch 1:  Loss is 0.083117, accuracy is 0.574600\n",
      "Epoch 31, CIFAR-10 Batch 1:  Loss is 0.061371, accuracy is 0.575000\n",
      "Epoch 32, CIFAR-10 Batch 1:  Loss is 0.056439, accuracy is 0.581800\n",
      "Epoch 33, CIFAR-10 Batch 1:  Loss is 0.049747, accuracy is 0.591600\n",
      "Epoch 34, CIFAR-10 Batch 1:  Loss is 0.067781, accuracy is 0.586200\n",
      "Epoch 35, CIFAR-10 Batch 1:  Loss is 0.044270, accuracy is 0.592800\n",
      "Epoch 36, CIFAR-10 Batch 1:  Loss is 0.032190, accuracy is 0.590000\n",
      "Epoch 37, CIFAR-10 Batch 1:  Loss is 0.033124, accuracy is 0.593000\n",
      "Epoch 38, CIFAR-10 Batch 1:  Loss is 0.025236, accuracy is 0.593200\n",
      "Epoch 39, CIFAR-10 Batch 1:  Loss is 0.048360, accuracy is 0.555800\n",
      "Epoch 40, CIFAR-10 Batch 1:  Loss is 0.038671, accuracy is 0.588200\n",
      "Epoch 41, CIFAR-10 Batch 1:  Loss is 0.041700, accuracy is 0.582200\n",
      "Epoch 42, CIFAR-10 Batch 1:  Loss is 0.047613, accuracy is 0.551600\n",
      "Epoch 43, CIFAR-10 Batch 1:  Loss is 0.028061, accuracy is 0.571400\n",
      "Epoch 44, CIFAR-10 Batch 1:  Loss is 0.011438, accuracy is 0.596600\n",
      "Epoch 45, CIFAR-10 Batch 1:  Loss is 0.009565, accuracy is 0.593200\n",
      "Epoch 46, CIFAR-10 Batch 1:  Loss is 0.008226, accuracy is 0.580800\n",
      "Epoch 47, CIFAR-10 Batch 1:  Loss is 0.007531, accuracy is 0.599400\n",
      "Epoch 48, CIFAR-10 Batch 1:  Loss is 0.008432, accuracy is 0.605600\n",
      "Epoch 49, CIFAR-10 Batch 1:  Loss is 0.008687, accuracy is 0.606600\n",
      "Epoch 50, CIFAR-10 Batch 1:  Loss is 0.003574, accuracy is 0.610200\n"
     ]
    }
   ],
   "source": [
    "\"\"\"\n",
    "DON'T MODIFY ANYTHING IN THIS CELL\n",
    "\"\"\"\n",
    "print('Checking the Training on a Single Batch...')\n",
    "with tf.Session() as sess:\n",
    "    # Initializing the variables\n",
    "    sess.run(tf.global_variables_initializer())\n",
    "    \n",
    "    # Training cycle\n",
    "    for epoch in range(epochs):\n",
    "        batch_i = 1\n",
    "        for batch_features, batch_labels in helper.load_preprocess_training_batch(batch_i, batch_size):\n",
    "            train_neural_network(sess, optimizer, keep_probability, batch_features, batch_labels)\n",
    "        print('Epoch {:>2}, CIFAR-10 Batch {}:  '.format(epoch + 1, batch_i), end='')\n",
    "        print_stats(sess, batch_features, batch_labels, cost, accuracy)"
   ]
  },
  {
   "cell_type": "markdown",
   "metadata": {},
   "source": [
    "### Fully Train the Model\n",
    "Now that you got a good accuracy with a single CIFAR-10 batch, try it with all five batches."
   ]
  },
  {
   "cell_type": "code",
   "execution_count": 36,
   "metadata": {
    "collapsed": false
   },
   "outputs": [
    {
     "name": "stdout",
     "output_type": "stream",
     "text": [
      "Training...\n",
      "Epoch  1, CIFAR-10 Batch 1:  Loss is 2.150946, accuracy is 0.263600\n",
      "Epoch  1, CIFAR-10 Batch 2:  Loss is 1.863737, accuracy is 0.321400\n",
      "Epoch  1, CIFAR-10 Batch 3:  Loss is 1.645852, accuracy is 0.379200\n",
      "Epoch  1, CIFAR-10 Batch 4:  Loss is 1.674415, accuracy is 0.422000\n",
      "Epoch  1, CIFAR-10 Batch 5:  Loss is 1.633223, accuracy is 0.415000\n",
      "Epoch  2, CIFAR-10 Batch 1:  Loss is 1.810668, accuracy is 0.454200\n",
      "Epoch  2, CIFAR-10 Batch 2:  Loss is 1.434373, accuracy is 0.440200\n",
      "Epoch  2, CIFAR-10 Batch 3:  Loss is 1.147259, accuracy is 0.472600\n",
      "Epoch  2, CIFAR-10 Batch 4:  Loss is 1.383733, accuracy is 0.485000\n",
      "Epoch  2, CIFAR-10 Batch 5:  Loss is 1.293719, accuracy is 0.505800\n",
      "Epoch  3, CIFAR-10 Batch 1:  Loss is 1.428932, accuracy is 0.507800\n",
      "Epoch  3, CIFAR-10 Batch 2:  Loss is 1.104497, accuracy is 0.515400\n",
      "Epoch  3, CIFAR-10 Batch 3:  Loss is 0.962595, accuracy is 0.513400\n",
      "Epoch  3, CIFAR-10 Batch 4:  Loss is 1.211567, accuracy is 0.543200\n",
      "Epoch  3, CIFAR-10 Batch 5:  Loss is 1.074679, accuracy is 0.554400\n",
      "Epoch  4, CIFAR-10 Batch 1:  Loss is 1.179092, accuracy is 0.562600\n",
      "Epoch  4, CIFAR-10 Batch 2:  Loss is 0.947963, accuracy is 0.534000\n",
      "Epoch  4, CIFAR-10 Batch 3:  Loss is 0.786586, accuracy is 0.556600\n",
      "Epoch  4, CIFAR-10 Batch 4:  Loss is 0.965282, accuracy is 0.587000\n",
      "Epoch  4, CIFAR-10 Batch 5:  Loss is 0.917348, accuracy is 0.589600\n",
      "Epoch  5, CIFAR-10 Batch 1:  Loss is 0.998472, accuracy is 0.604400\n",
      "Epoch  5, CIFAR-10 Batch 2:  Loss is 0.712591, accuracy is 0.602000\n",
      "Epoch  5, CIFAR-10 Batch 3:  Loss is 0.678243, accuracy is 0.588200\n",
      "Epoch  5, CIFAR-10 Batch 4:  Loss is 0.851924, accuracy is 0.619200\n",
      "Epoch  5, CIFAR-10 Batch 5:  Loss is 0.744458, accuracy is 0.609800\n",
      "Epoch  6, CIFAR-10 Batch 1:  Loss is 0.792346, accuracy is 0.624800\n",
      "Epoch  6, CIFAR-10 Batch 2:  Loss is 0.623058, accuracy is 0.641000\n",
      "Epoch  6, CIFAR-10 Batch 3:  Loss is 0.558747, accuracy is 0.637600\n",
      "Epoch  6, CIFAR-10 Batch 4:  Loss is 0.713289, accuracy is 0.623000\n",
      "Epoch  6, CIFAR-10 Batch 5:  Loss is 0.596144, accuracy is 0.651000\n",
      "Epoch  7, CIFAR-10 Batch 1:  Loss is 0.651101, accuracy is 0.645800\n",
      "Epoch  7, CIFAR-10 Batch 2:  Loss is 0.464173, accuracy is 0.643000\n",
      "Epoch  7, CIFAR-10 Batch 3:  Loss is 0.497867, accuracy is 0.647000\n",
      "Epoch  7, CIFAR-10 Batch 4:  Loss is 0.579478, accuracy is 0.661600\n",
      "Epoch  7, CIFAR-10 Batch 5:  Loss is 0.513936, accuracy is 0.657600\n",
      "Epoch  8, CIFAR-10 Batch 1:  Loss is 0.560702, accuracy is 0.665400\n",
      "Epoch  8, CIFAR-10 Batch 2:  Loss is 0.438753, accuracy is 0.651600\n",
      "Epoch  8, CIFAR-10 Batch 3:  Loss is 0.360826, accuracy is 0.660200\n",
      "Epoch  8, CIFAR-10 Batch 4:  Loss is 0.476658, accuracy is 0.670400\n",
      "Epoch  8, CIFAR-10 Batch 5:  Loss is 0.418301, accuracy is 0.689200\n",
      "Epoch  9, CIFAR-10 Batch 1:  Loss is 0.484102, accuracy is 0.682200\n",
      "Epoch  9, CIFAR-10 Batch 2:  Loss is 0.352574, accuracy is 0.680000\n",
      "Epoch  9, CIFAR-10 Batch 3:  Loss is 0.262378, accuracy is 0.677200\n",
      "Epoch  9, CIFAR-10 Batch 4:  Loss is 0.382227, accuracy is 0.685400\n",
      "Epoch  9, CIFAR-10 Batch 5:  Loss is 0.369710, accuracy is 0.708600\n",
      "Epoch 10, CIFAR-10 Batch 1:  Loss is 0.366349, accuracy is 0.691800\n",
      "Epoch 10, CIFAR-10 Batch 2:  Loss is 0.280124, accuracy is 0.691400\n",
      "Epoch 10, CIFAR-10 Batch 3:  Loss is 0.256488, accuracy is 0.691200\n",
      "Epoch 10, CIFAR-10 Batch 4:  Loss is 0.354128, accuracy is 0.684800\n",
      "Epoch 10, CIFAR-10 Batch 5:  Loss is 0.284491, accuracy is 0.702400\n",
      "Epoch 11, CIFAR-10 Batch 1:  Loss is 0.307959, accuracy is 0.697200\n",
      "Epoch 11, CIFAR-10 Batch 2:  Loss is 0.247481, accuracy is 0.702200\n",
      "Epoch 11, CIFAR-10 Batch 3:  Loss is 0.228533, accuracy is 0.699400\n",
      "Epoch 11, CIFAR-10 Batch 4:  Loss is 0.272260, accuracy is 0.700200\n",
      "Epoch 11, CIFAR-10 Batch 5:  Loss is 0.288141, accuracy is 0.702200\n",
      "Epoch 12, CIFAR-10 Batch 1:  Loss is 0.253228, accuracy is 0.716000\n",
      "Epoch 12, CIFAR-10 Batch 2:  Loss is 0.203697, accuracy is 0.711200\n",
      "Epoch 12, CIFAR-10 Batch 3:  Loss is 0.163948, accuracy is 0.681200\n",
      "Epoch 12, CIFAR-10 Batch 4:  Loss is 0.208113, accuracy is 0.715800\n",
      "Epoch 12, CIFAR-10 Batch 5:  Loss is 0.255921, accuracy is 0.714000\n",
      "Epoch 13, CIFAR-10 Batch 1:  Loss is 0.192982, accuracy is 0.711800\n",
      "Epoch 13, CIFAR-10 Batch 2:  Loss is 0.152400, accuracy is 0.698200\n",
      "Epoch 13, CIFAR-10 Batch 3:  Loss is 0.138016, accuracy is 0.714800\n",
      "Epoch 13, CIFAR-10 Batch 4:  Loss is 0.180455, accuracy is 0.712400\n",
      "Epoch 13, CIFAR-10 Batch 5:  Loss is 0.199194, accuracy is 0.711000\n",
      "Epoch 14, CIFAR-10 Batch 1:  Loss is 0.168929, accuracy is 0.715800\n",
      "Epoch 14, CIFAR-10 Batch 2:  Loss is 0.141963, accuracy is 0.702400\n",
      "Epoch 14, CIFAR-10 Batch 3:  Loss is 0.118892, accuracy is 0.713800\n",
      "Epoch 14, CIFAR-10 Batch 4:  Loss is 0.168674, accuracy is 0.692000\n",
      "Epoch 14, CIFAR-10 Batch 5:  Loss is 0.128478, accuracy is 0.715600\n",
      "Epoch 15, CIFAR-10 Batch 1:  Loss is 0.117753, accuracy is 0.696200\n",
      "Epoch 15, CIFAR-10 Batch 2:  Loss is 0.149281, accuracy is 0.697600\n",
      "Epoch 15, CIFAR-10 Batch 3:  Loss is 0.118584, accuracy is 0.694200\n",
      "Epoch 15, CIFAR-10 Batch 4:  Loss is 0.141906, accuracy is 0.707400\n",
      "Epoch 15, CIFAR-10 Batch 5:  Loss is 0.120816, accuracy is 0.700000\n",
      "Epoch 16, CIFAR-10 Batch 1:  Loss is 0.111139, accuracy is 0.686600\n",
      "Epoch 16, CIFAR-10 Batch 2:  Loss is 0.108155, accuracy is 0.719200\n",
      "Epoch 16, CIFAR-10 Batch 3:  Loss is 0.102926, accuracy is 0.700400\n",
      "Epoch 16, CIFAR-10 Batch 4:  Loss is 0.114779, accuracy is 0.705200\n",
      "Epoch 16, CIFAR-10 Batch 5:  Loss is 0.087138, accuracy is 0.715400\n",
      "Epoch 17, CIFAR-10 Batch 1:  Loss is 0.072660, accuracy is 0.695400\n",
      "Epoch 17, CIFAR-10 Batch 2:  Loss is 0.101554, accuracy is 0.710200\n",
      "Epoch 17, CIFAR-10 Batch 3:  Loss is 0.081664, accuracy is 0.713400\n",
      "Epoch 17, CIFAR-10 Batch 4:  Loss is 0.090267, accuracy is 0.718000\n",
      "Epoch 17, CIFAR-10 Batch 5:  Loss is 0.066133, accuracy is 0.723400\n",
      "Epoch 18, CIFAR-10 Batch 1:  Loss is 0.071106, accuracy is 0.703000\n",
      "Epoch 18, CIFAR-10 Batch 2:  Loss is 0.084450, accuracy is 0.705800\n",
      "Epoch 18, CIFAR-10 Batch 3:  Loss is 0.092819, accuracy is 0.715800\n",
      "Epoch 18, CIFAR-10 Batch 4:  Loss is 0.095447, accuracy is 0.716200\n",
      "Epoch 18, CIFAR-10 Batch 5:  Loss is 0.056645, accuracy is 0.721600\n",
      "Epoch 19, CIFAR-10 Batch 1:  Loss is 0.053016, accuracy is 0.715400\n",
      "Epoch 19, CIFAR-10 Batch 2:  Loss is 0.072246, accuracy is 0.705400\n",
      "Epoch 19, CIFAR-10 Batch 3:  Loss is 0.047415, accuracy is 0.719800\n",
      "Epoch 19, CIFAR-10 Batch 4:  Loss is 0.088368, accuracy is 0.707000\n",
      "Epoch 19, CIFAR-10 Batch 5:  Loss is 0.043153, accuracy is 0.718400\n",
      "Epoch 20, CIFAR-10 Batch 1:  Loss is 0.042343, accuracy is 0.713800\n",
      "Epoch 20, CIFAR-10 Batch 2:  Loss is 0.051862, accuracy is 0.712200\n",
      "Epoch 20, CIFAR-10 Batch 3:  Loss is 0.050158, accuracy is 0.717200\n",
      "Epoch 20, CIFAR-10 Batch 4:  Loss is 0.080736, accuracy is 0.696800\n",
      "Epoch 20, CIFAR-10 Batch 5:  Loss is 0.038349, accuracy is 0.718600\n",
      "Epoch 21, CIFAR-10 Batch 1:  Loss is 0.052821, accuracy is 0.704800\n",
      "Epoch 21, CIFAR-10 Batch 2:  Loss is 0.053510, accuracy is 0.694000\n",
      "Epoch 21, CIFAR-10 Batch 3:  Loss is 0.040214, accuracy is 0.718200\n",
      "Epoch 21, CIFAR-10 Batch 4:  Loss is 0.051302, accuracy is 0.706000\n",
      "Epoch 21, CIFAR-10 Batch 5:  Loss is 0.025914, accuracy is 0.720200\n",
      "Epoch 22, CIFAR-10 Batch 1:  Loss is 0.042792, accuracy is 0.711400\n",
      "Epoch 22, CIFAR-10 Batch 2:  Loss is 0.034857, accuracy is 0.706600\n",
      "Epoch 22, CIFAR-10 Batch 3:  Loss is 0.021746, accuracy is 0.720000\n",
      "Epoch 22, CIFAR-10 Batch 4:  Loss is 0.043799, accuracy is 0.707200\n",
      "Epoch 22, CIFAR-10 Batch 5:  Loss is 0.032078, accuracy is 0.712400\n",
      "Epoch 23, CIFAR-10 Batch 1:  Loss is 0.022149, accuracy is 0.713600\n",
      "Epoch 23, CIFAR-10 Batch 2:  Loss is 0.023120, accuracy is 0.706800\n",
      "Epoch 23, CIFAR-10 Batch 3:  Loss is 0.026935, accuracy is 0.720800\n",
      "Epoch 23, CIFAR-10 Batch 4:  Loss is 0.060459, accuracy is 0.697000\n",
      "Epoch 23, CIFAR-10 Batch 5:  Loss is 0.028121, accuracy is 0.714600\n",
      "Epoch 24, CIFAR-10 Batch 1:  Loss is 0.018313, accuracy is 0.723400\n",
      "Epoch 24, CIFAR-10 Batch 2:  Loss is 0.031379, accuracy is 0.702400\n",
      "Epoch 24, CIFAR-10 Batch 3:  Loss is 0.020103, accuracy is 0.717400\n",
      "Epoch 24, CIFAR-10 Batch 4:  Loss is 0.032147, accuracy is 0.710600\n",
      "Epoch 24, CIFAR-10 Batch 5:  Loss is 0.028467, accuracy is 0.706200\n",
      "Epoch 25, CIFAR-10 Batch 1:  Loss is 0.026601, accuracy is 0.697600\n",
      "Epoch 25, CIFAR-10 Batch 2:  Loss is 0.039531, accuracy is 0.705000\n",
      "Epoch 25, CIFAR-10 Batch 3:  Loss is 0.012743, accuracy is 0.720000\n",
      "Epoch 25, CIFAR-10 Batch 4:  Loss is 0.035945, accuracy is 0.705800\n",
      "Epoch 25, CIFAR-10 Batch 5:  Loss is 0.032073, accuracy is 0.705400\n",
      "Epoch 26, CIFAR-10 Batch 1:  Loss is 0.027664, accuracy is 0.697200\n",
      "Epoch 26, CIFAR-10 Batch 2:  Loss is 0.023881, accuracy is 0.693000\n",
      "Epoch 26, CIFAR-10 Batch 3:  Loss is 0.017919, accuracy is 0.726600\n",
      "Epoch 26, CIFAR-10 Batch 4:  Loss is 0.018946, accuracy is 0.711600\n",
      "Epoch 26, CIFAR-10 Batch 5:  Loss is 0.011154, accuracy is 0.723400\n",
      "Epoch 27, CIFAR-10 Batch 1:  Loss is 0.017067, accuracy is 0.697600\n",
      "Epoch 27, CIFAR-10 Batch 2:  Loss is 0.021007, accuracy is 0.693800\n",
      "Epoch 27, CIFAR-10 Batch 3:  Loss is 0.018077, accuracy is 0.716000\n",
      "Epoch 27, CIFAR-10 Batch 4:  Loss is 0.019026, accuracy is 0.704600\n",
      "Epoch 27, CIFAR-10 Batch 5:  Loss is 0.010889, accuracy is 0.713400\n",
      "Epoch 28, CIFAR-10 Batch 1:  Loss is 0.013637, accuracy is 0.701600\n",
      "Epoch 28, CIFAR-10 Batch 2:  Loss is 0.015965, accuracy is 0.699400\n",
      "Epoch 28, CIFAR-10 Batch 3:  Loss is 0.009298, accuracy is 0.712200\n",
      "Epoch 28, CIFAR-10 Batch 4:  Loss is 0.021293, accuracy is 0.697600\n",
      "Epoch 28, CIFAR-10 Batch 5:  Loss is 0.015258, accuracy is 0.712600\n",
      "Epoch 29, CIFAR-10 Batch 1:  Loss is 0.015708, accuracy is 0.707200\n",
      "Epoch 29, CIFAR-10 Batch 2:  Loss is 0.010809, accuracy is 0.710400\n",
      "Epoch 29, CIFAR-10 Batch 3:  Loss is 0.011088, accuracy is 0.713000\n",
      "Epoch 29, CIFAR-10 Batch 4:  Loss is 0.018069, accuracy is 0.696000\n",
      "Epoch 29, CIFAR-10 Batch 5:  Loss is 0.015463, accuracy is 0.711200\n",
      "Epoch 30, CIFAR-10 Batch 1:  Loss is 0.014888, accuracy is 0.703400\n",
      "Epoch 30, CIFAR-10 Batch 2:  Loss is 0.010549, accuracy is 0.709600\n",
      "Epoch 30, CIFAR-10 Batch 3:  Loss is 0.004890, accuracy is 0.718400\n",
      "Epoch 30, CIFAR-10 Batch 4:  Loss is 0.015964, accuracy is 0.699200\n",
      "Epoch 30, CIFAR-10 Batch 5:  Loss is 0.015941, accuracy is 0.718600\n",
      "Epoch 31, CIFAR-10 Batch 1:  Loss is 0.023609, accuracy is 0.689000\n",
      "Epoch 31, CIFAR-10 Batch 2:  Loss is 0.012692, accuracy is 0.712000\n",
      "Epoch 31, CIFAR-10 Batch 3:  Loss is 0.008657, accuracy is 0.708800\n",
      "Epoch 31, CIFAR-10 Batch 4:  Loss is 0.010405, accuracy is 0.709800\n",
      "Epoch 31, CIFAR-10 Batch 5:  Loss is 0.017383, accuracy is 0.700800\n",
      "Epoch 32, CIFAR-10 Batch 1:  Loss is 0.020118, accuracy is 0.662000\n",
      "Epoch 32, CIFAR-10 Batch 2:  Loss is 0.014164, accuracy is 0.700200\n",
      "Epoch 32, CIFAR-10 Batch 3:  Loss is 0.005901, accuracy is 0.707400\n",
      "Epoch 32, CIFAR-10 Batch 4:  Loss is 0.012197, accuracy is 0.704600\n",
      "Epoch 32, CIFAR-10 Batch 5:  Loss is 0.014336, accuracy is 0.708800\n",
      "Epoch 33, CIFAR-10 Batch 1:  Loss is 0.016238, accuracy is 0.662400\n",
      "Epoch 33, CIFAR-10 Batch 2:  Loss is 0.016672, accuracy is 0.704800\n",
      "Epoch 33, CIFAR-10 Batch 3:  Loss is 0.005679, accuracy is 0.707600\n",
      "Epoch 33, CIFAR-10 Batch 4:  Loss is 0.005345, accuracy is 0.707000\n",
      "Epoch 33, CIFAR-10 Batch 5:  Loss is 0.014232, accuracy is 0.712600\n",
      "Epoch 34, CIFAR-10 Batch 1:  Loss is 0.027149, accuracy is 0.656600\n",
      "Epoch 34, CIFAR-10 Batch 2:  Loss is 0.004545, accuracy is 0.698600\n",
      "Epoch 34, CIFAR-10 Batch 3:  Loss is 0.006987, accuracy is 0.712200\n",
      "Epoch 34, CIFAR-10 Batch 4:  Loss is 0.008878, accuracy is 0.707600\n",
      "Epoch 34, CIFAR-10 Batch 5:  Loss is 0.008091, accuracy is 0.708000\n",
      "Epoch 35, CIFAR-10 Batch 1:  Loss is 0.010939, accuracy is 0.670200\n",
      "Epoch 35, CIFAR-10 Batch 2:  Loss is 0.013981, accuracy is 0.689600\n",
      "Epoch 35, CIFAR-10 Batch 3:  Loss is 0.005104, accuracy is 0.716600\n",
      "Epoch 35, CIFAR-10 Batch 4:  Loss is 0.007800, accuracy is 0.693000\n",
      "Epoch 35, CIFAR-10 Batch 5:  Loss is 0.002919, accuracy is 0.712200\n",
      "Epoch 36, CIFAR-10 Batch 1:  Loss is 0.014461, accuracy is 0.658000\n",
      "Epoch 36, CIFAR-10 Batch 2:  Loss is 0.016717, accuracy is 0.691400\n",
      "Epoch 36, CIFAR-10 Batch 3:  Loss is 0.005101, accuracy is 0.713600\n",
      "Epoch 36, CIFAR-10 Batch 4:  Loss is 0.005973, accuracy is 0.708200\n",
      "Epoch 36, CIFAR-10 Batch 5:  Loss is 0.002024, accuracy is 0.711600\n",
      "Epoch 37, CIFAR-10 Batch 1:  Loss is 0.011374, accuracy is 0.696800\n",
      "Epoch 37, CIFAR-10 Batch 2:  Loss is 0.012235, accuracy is 0.693000\n",
      "Epoch 37, CIFAR-10 Batch 3:  Loss is 0.001965, accuracy is 0.714200\n",
      "Epoch 37, CIFAR-10 Batch 4:  Loss is 0.005997, accuracy is 0.698800\n",
      "Epoch 37, CIFAR-10 Batch 5:  Loss is 0.003991, accuracy is 0.701600\n",
      "Epoch 38, CIFAR-10 Batch 1:  Loss is 0.019756, accuracy is 0.689600\n",
      "Epoch 38, CIFAR-10 Batch 2:  Loss is 0.012159, accuracy is 0.700400\n",
      "Epoch 38, CIFAR-10 Batch 3:  Loss is 0.003388, accuracy is 0.698800\n",
      "Epoch 38, CIFAR-10 Batch 4:  Loss is 0.002856, accuracy is 0.697200\n",
      "Epoch 38, CIFAR-10 Batch 5:  Loss is 0.002082, accuracy is 0.701800\n",
      "Epoch 39, CIFAR-10 Batch 1:  Loss is 0.004933, accuracy is 0.701600\n",
      "Epoch 39, CIFAR-10 Batch 2:  Loss is 0.003542, accuracy is 0.697200\n",
      "Epoch 39, CIFAR-10 Batch 3:  Loss is 0.001677, accuracy is 0.704200\n",
      "Epoch 39, CIFAR-10 Batch 4:  Loss is 0.003151, accuracy is 0.702600\n",
      "Epoch 39, CIFAR-10 Batch 5:  Loss is 0.000893, accuracy is 0.712400\n",
      "Epoch 40, CIFAR-10 Batch 1:  Loss is 0.003220, accuracy is 0.707600\n",
      "Epoch 40, CIFAR-10 Batch 2:  Loss is 0.005119, accuracy is 0.690600\n",
      "Epoch 40, CIFAR-10 Batch 3:  Loss is 0.005517, accuracy is 0.698000\n",
      "Epoch 40, CIFAR-10 Batch 4:  Loss is 0.004794, accuracy is 0.706400\n",
      "Epoch 40, CIFAR-10 Batch 5:  Loss is 0.003067, accuracy is 0.711000\n",
      "Epoch 41, CIFAR-10 Batch 1:  Loss is 0.001655, accuracy is 0.706600\n",
      "Epoch 41, CIFAR-10 Batch 2:  Loss is 0.004591, accuracy is 0.695600\n",
      "Epoch 41, CIFAR-10 Batch 3:  Loss is 0.001205, accuracy is 0.710400\n",
      "Epoch 41, CIFAR-10 Batch 4:  Loss is 0.010532, accuracy is 0.696600\n",
      "Epoch 41, CIFAR-10 Batch 5:  Loss is 0.003265, accuracy is 0.714600\n",
      "Epoch 42, CIFAR-10 Batch 1:  Loss is 0.003573, accuracy is 0.713000\n",
      "Epoch 42, CIFAR-10 Batch 2:  Loss is 0.001960, accuracy is 0.718800\n",
      "Epoch 42, CIFAR-10 Batch 3:  Loss is 0.002900, accuracy is 0.702200\n",
      "Epoch 42, CIFAR-10 Batch 4:  Loss is 0.004050, accuracy is 0.689200\n",
      "Epoch 42, CIFAR-10 Batch 5:  Loss is 0.003950, accuracy is 0.699200\n",
      "Epoch 43, CIFAR-10 Batch 1:  Loss is 0.002595, accuracy is 0.713200\n",
      "Epoch 43, CIFAR-10 Batch 2:  Loss is 0.002880, accuracy is 0.705000\n",
      "Epoch 43, CIFAR-10 Batch 3:  Loss is 0.001048, accuracy is 0.711600\n",
      "Epoch 43, CIFAR-10 Batch 4:  Loss is 0.005791, accuracy is 0.696800\n",
      "Epoch 43, CIFAR-10 Batch 5:  Loss is 0.001604, accuracy is 0.710000\n",
      "Epoch 44, CIFAR-10 Batch 1:  Loss is 0.002231, accuracy is 0.712800\n",
      "Epoch 44, CIFAR-10 Batch 2:  Loss is 0.004249, accuracy is 0.708200\n",
      "Epoch 44, CIFAR-10 Batch 3:  Loss is 0.001156, accuracy is 0.716800\n",
      "Epoch 44, CIFAR-10 Batch 4:  Loss is 0.004623, accuracy is 0.693200\n",
      "Epoch 44, CIFAR-10 Batch 5:  Loss is 0.001441, accuracy is 0.706000\n",
      "Epoch 45, CIFAR-10 Batch 1:  Loss is 0.001672, accuracy is 0.707800\n",
      "Epoch 45, CIFAR-10 Batch 2:  Loss is 0.001563, accuracy is 0.710400\n",
      "Epoch 45, CIFAR-10 Batch 3:  Loss is 0.000865, accuracy is 0.713600\n",
      "Epoch 45, CIFAR-10 Batch 4:  Loss is 0.007237, accuracy is 0.698400\n",
      "Epoch 45, CIFAR-10 Batch 5:  Loss is 0.001490, accuracy is 0.704000\n",
      "Epoch 46, CIFAR-10 Batch 1:  Loss is 0.002602, accuracy is 0.711600\n",
      "Epoch 46, CIFAR-10 Batch 2:  Loss is 0.005262, accuracy is 0.711800\n",
      "Epoch 46, CIFAR-10 Batch 3:  Loss is 0.003002, accuracy is 0.708200\n",
      "Epoch 46, CIFAR-10 Batch 4:  Loss is 0.004063, accuracy is 0.701800\n",
      "Epoch 46, CIFAR-10 Batch 5:  Loss is 0.002388, accuracy is 0.707200\n",
      "Epoch 47, CIFAR-10 Batch 1:  Loss is 0.001327, accuracy is 0.712200\n",
      "Epoch 47, CIFAR-10 Batch 2:  Loss is 0.002547, accuracy is 0.705200\n",
      "Epoch 47, CIFAR-10 Batch 3:  Loss is 0.000917, accuracy is 0.715800\n",
      "Epoch 47, CIFAR-10 Batch 4:  Loss is 0.001838, accuracy is 0.710400\n",
      "Epoch 47, CIFAR-10 Batch 5:  Loss is 0.000428, accuracy is 0.718800\n",
      "Epoch 48, CIFAR-10 Batch 1:  Loss is 0.000543, accuracy is 0.716200\n",
      "Epoch 48, CIFAR-10 Batch 2:  Loss is 0.000599, accuracy is 0.716800\n",
      "Epoch 48, CIFAR-10 Batch 3:  Loss is 0.001872, accuracy is 0.716200\n",
      "Epoch 48, CIFAR-10 Batch 4:  Loss is 0.001017, accuracy is 0.706400\n",
      "Epoch 48, CIFAR-10 Batch 5:  Loss is 0.000345, accuracy is 0.718600\n",
      "Epoch 49, CIFAR-10 Batch 1:  Loss is 0.001692, accuracy is 0.722200\n",
      "Epoch 49, CIFAR-10 Batch 2:  Loss is 0.001738, accuracy is 0.704000\n",
      "Epoch 49, CIFAR-10 Batch 3:  Loss is 0.000528, accuracy is 0.717600\n",
      "Epoch 49, CIFAR-10 Batch 4:  Loss is 0.001659, accuracy is 0.705000\n",
      "Epoch 49, CIFAR-10 Batch 5:  Loss is 0.000371, accuracy is 0.718000\n",
      "Epoch 50, CIFAR-10 Batch 1:  Loss is 0.001148, accuracy is 0.717400\n",
      "Epoch 50, CIFAR-10 Batch 2:  Loss is 0.000717, accuracy is 0.710800\n",
      "Epoch 50, CIFAR-10 Batch 3:  Loss is 0.000386, accuracy is 0.705600\n",
      "Epoch 50, CIFAR-10 Batch 4:  Loss is 0.001464, accuracy is 0.715600\n",
      "Epoch 50, CIFAR-10 Batch 5:  Loss is 0.001863, accuracy is 0.711200\n"
     ]
    }
   ],
   "source": [
    "\"\"\"\n",
    "DON'T MODIFY ANYTHING IN THIS CELL\n",
    "\"\"\"\n",
    "save_model_path = './image_classification'\n",
    "\n",
    "print('Training...')\n",
    "with tf.Session() as sess:\n",
    "    # Initializing the variables\n",
    "    sess.run(tf.global_variables_initializer())\n",
    "    \n",
    "    # Training cycle\n",
    "    for epoch in range(epochs):\n",
    "        # Loop over all batches\n",
    "        n_batches = 5\n",
    "        for batch_i in range(1, n_batches + 1):\n",
    "            for batch_features, batch_labels in helper.load_preprocess_training_batch(batch_i, batch_size):\n",
    "                train_neural_network(sess, optimizer, keep_probability, batch_features, batch_labels)\n",
    "            print('Epoch {:>2}, CIFAR-10 Batch {}:  '.format(epoch + 1, batch_i), end='')\n",
    "            print_stats(sess, batch_features, batch_labels, cost, accuracy)\n",
    "            \n",
    "    # Save Model\n",
    "    saver = tf.train.Saver()\n",
    "    save_path = saver.save(sess, save_model_path)"
   ]
  },
  {
   "cell_type": "markdown",
   "metadata": {},
   "source": [
    "# Checkpoint\n",
    "The model has been saved to disk.\n",
    "## Test Model\n",
    "Test your model against the test dataset.  This will be your final accuracy. You should have an accuracy greater than 50%. If you don't, keep tweaking the model architecture and parameters."
   ]
  },
  {
   "cell_type": "code",
   "execution_count": 37,
   "metadata": {
    "collapsed": false
   },
   "outputs": [
    {
     "name": "stdout",
     "output_type": "stream",
     "text": [
      "INFO:tensorflow:Restoring parameters from ./image_classification\n",
      "Testing Accuracy: 0.70537109375\n",
      "\n"
     ]
    },
    {
     "data": {
      "image/png": "[encoded data removed]",
      "text/plain": [
       "<matplotlib.figure.Figure at 0x7f9879a594e0>"
      ]
     },
     "metadata": {
      "image/png": {
       "height": 319,
       "width": 355
      }
     },
     "output_type": "display_data"
    }
   ],
   "source": [
    "\"\"\"\n",
    "DON'T MODIFY ANYTHING IN THIS CELL\n",
    "\"\"\"\n",
    "%matplotlib inline\n",
    "%config InlineBackend.figure_format = 'retina'\n",
    "\n",
    "import tensorflow as tf\n",
    "import pickle\n",
    "import helper\n",
    "import random\n",
    "\n",
    "# Set batch size if not already set\n",
    "try:\n",
    "    if batch_size:\n",
    "        pass\n",
    "except NameError:\n",
    "    batch_size = 64\n",
    "\n",
    "save_model_path = './image_classification'\n",
    "n_samples = 4\n",
    "top_n_predictions = 3\n",
    "\n",
    "def test_model():\n",
    "    \"\"\"\n",
    "    Test the saved model against the test dataset\n",
    "    \"\"\"\n",
    "\n",
    "    test_features, test_labels = pickle.load(open('preprocess_training.p', mode='rb'))\n",
    "    loaded_graph = tf.Graph()\n",
    "\n",
    "    with tf.Session(graph=loaded_graph) as sess:\n",
    "        # Load model\n",
    "        loader = tf.train.import_meta_graph(save_model_path + '.meta')\n",
    "        loader.restore(sess, save_model_path)\n",
    "\n",
    "        # Get Tensors from loaded model\n",
    "        loaded_x = loaded_graph.get_tensor_by_name('x:0')\n",
    "        loaded_y = loaded_graph.get_tensor_by_name('y:0')\n",
    "        loaded_keep_prob = loaded_graph.get_tensor_by_name('keep_prob:0')\n",
    "        loaded_logits = loaded_graph.get_tensor_by_name('logits:0')\n",
    "        loaded_acc = loaded_graph.get_tensor_by_name('accuracy:0')\n",
    "        \n",
    "        # Get accuracy in batches for memory limitations\n",
    "        test_batch_acc_total = 0\n",
    "        test_batch_count = 0\n",
    "        \n",
    "        for train_feature_batch, train_label_batch in helper.batch_features_labels(test_features, test_labels, batch_size):\n",
    "            test_batch_acc_total += sess.run(\n",
    "                loaded_acc,\n",
    "                feed_dict={loaded_x: train_feature_batch, loaded_y: train_label_batch, loaded_keep_prob: 1.0})\n",
    "            test_batch_count += 1\n",
    "\n",
    "        print('Testing Accuracy: {}\\n'.format(test_batch_acc_total/test_batch_count))\n",
    "\n",
    "        # Print Random Samples\n",
    "        random_test_features, random_test_labels = tuple(zip(*random.sample(list(zip(test_features, test_labels)), n_samples)))\n",
    "        random_test_predictions = sess.run(\n",
    "            tf.nn.top_k(tf.nn.softmax(loaded_logits), top_n_predictions),\n",
    "            feed_dict={loaded_x: random_test_features, loaded_y: random_test_labels, loaded_keep_prob: 1.0})\n",
    "        helper.display_image_predictions(random_test_features, random_test_labels, random_test_predictions)\n",
    "\n",
    "\n",
    "test_model()"
   ]
  },
  {
   "cell_type": "markdown",
   "metadata": {},
   "source": [
    "## Why 50-80% Accuracy?\n",
    "You might be wondering why you can't get an accuracy any higher. First things first, 50% isn't bad for a simple CNN.  Pure guessing would get you 10% accuracy. That's because there are many more techniques that can be applied to your model and we recemmond that once you are done with this project, you explore!\n",
    "\n",
    "## Submitting This Project\n",
    "When submitting this project, make sure to run all the cells before saving the notebook.  Save the notebook file as \"image_classification.ipynb\" and save it as a HTML file under \"File\" -> \"Download as\".  Include the \"helper.py\" and \"problem_unittests.py\" files in your submission."
   ]
  }
 ],
 "metadata": {
  "kernelspec": {
   "display_name": "Python 3",
   "language": "python",
   "name": "python3"
  },
  "language_info": {
   "codemirror_mode": {
    "name": "ipython",
    "version": 3
   },
   "file_extension": ".py",
   "mimetype": "text/x-python",
   "name": "python",
   "nbconvert_exporter": "python",
   "pygments_lexer": "ipython3",
   "version": "3.6.0"
  }
 },
 "nbformat": 4,
 "nbformat_minor": 1
}
