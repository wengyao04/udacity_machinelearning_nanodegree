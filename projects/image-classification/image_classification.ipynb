{
 "cells": [
  {
   "cell_type": "markdown",
   "metadata": {
    "collapsed": true
   },
   "source": [
    "# Image Classification\n",
    "In this project, you'll classify images from the [CIFAR-10 dataset](https://www.cs.toronto.edu/~kriz/cifar.html).  The dataset consists of airplanes, dogs, cats, and other objects. You'll preprocess the images, then train a convolutional neural network on all the samples. The images need to be normalized and the labels need to be one-hot encoded.  You'll get to apply what you learned and build a convolutional, max pooling, dropout, and fully connected layers.  At the end, you'll get to see your neural network's predictions on the sample images.\n",
    "## Get the Data\n",
    "Run the following cell to download the [CIFAR-10 dataset for python](https://www.cs.toronto.edu/~kriz/cifar-10-python.tar.gz)."
   ]
  },
  {
   "cell_type": "code",
   "execution_count": 1,
   "metadata": {
    "collapsed": false
   },
   "outputs": [
    {
     "name": "stderr",
     "output_type": "stream",
     "text": [
      "CIFAR-10 Dataset: 171MB [00:36, 4.66MB/s]                              \n"
     ]
    },
    {
     "name": "stdout",
     "output_type": "stream",
     "text": [
      "All files found!\n"
     ]
    }
   ],
   "source": [
    "\"\"\"\n",
    "DON'T MODIFY ANYTHING IN THIS CELL THAT IS BELOW THIS LINE\n",
    "\"\"\"\n",
    "from urllib.request import urlretrieve\n",
    "from os.path import isfile, isdir\n",
    "from tqdm import tqdm\n",
    "import problem_unittests as tests\n",
    "import tarfile\n",
    "\n",
    "cifar10_dataset_folder_path = 'cifar-10-batches-py'\n",
    "\n",
    "class DLProgress(tqdm):\n",
    "    last_block = 0\n",
    "\n",
    "    def hook(self, block_num=1, block_size=1, total_size=None):\n",
    "        self.total = total_size\n",
    "        self.update((block_num - self.last_block) * block_size)\n",
    "        self.last_block = block_num\n",
    "\n",
    "if not isfile('cifar-10-python.tar.gz'):\n",
    "    with DLProgress(unit='B', unit_scale=True, miniters=1, desc='CIFAR-10 Dataset') as pbar:\n",
    "        urlretrieve(\n",
    "            'https://www.cs.toronto.edu/~kriz/cifar-10-python.tar.gz',\n",
    "            'cifar-10-python.tar.gz',\n",
    "            pbar.hook)\n",
    "\n",
    "if not isdir(cifar10_dataset_folder_path):\n",
    "    with tarfile.open('cifar-10-python.tar.gz') as tar:\n",
    "        tar.extractall()\n",
    "        tar.close()\n",
    "\n",
    "\n",
    "tests.test_folder_path(cifar10_dataset_folder_path)"
   ]
  },
  {
   "cell_type": "markdown",
   "metadata": {},
   "source": [
    "## Explore the Data\n",
    "The dataset is broken into batches to prevent your machine from running out of memory.  The CIFAR-10 dataset consists of 5 batches, named `data_batch_1`, `data_batch_2`, etc.. Each batch contains the labels and images that are one of the following:\n",
    "* airplane\n",
    "* automobile\n",
    "* bird\n",
    "* cat\n",
    "* deer\n",
    "* dog\n",
    "* frog\n",
    "* horse\n",
    "* ship\n",
    "* truck\n",
    "\n",
    "Understanding a dataset is part of making predictions on the data.  Play around with the code cell below by changing the `batch_id` and `sample_id`. The `batch_id` is the id for a batch (1-5). The `sample_id` is the id for a image and label pair in the batch.\n",
    "\n",
    "Ask yourself \"What are all possible labels?\", \"What is the range of values for the image data?\", \"Are the labels in order or random?\".  Answers to questions like these will help you preprocess the data and end up with better predictions."
   ]
  },
  {
   "cell_type": "code",
   "execution_count": 2,
   "metadata": {
    "collapsed": false
   },
   "outputs": [
    {
     "name": "stderr",
     "output_type": "stream",
     "text": [
      "/home/wengyao04/anaconda3/lib/python3.6/site-packages/matplotlib/font_manager.py:280: UserWarning: Matplotlib is building the font cache using fc-list. This may take a moment.\n",
      "  'Matplotlib is building the font cache using fc-list. '\n"
     ]
    },
    {
     "name": "stdout",
     "output_type": "stream",
     "text": [
      "\n",
      "Stats of batch 1:\n",
      "Samples: 10000\n",
      "Label Counts: {0: 1005, 1: 974, 2: 1032, 3: 1016, 4: 999, 5: 937, 6: 1030, 7: 1001, 8: 1025, 9: 981}\n",
      "First 20 Labels: [6, 9, 9, 4, 1, 1, 2, 7, 8, 3, 4, 7, 7, 2, 9, 9, 9, 3, 2, 6]\n",
      "\n",
      "Example of Image 5:\n",
      "Image - Min Value: 0 Max Value: 252\n",
      "Image - Shape: (32, 32, 3)\n",
      "Label - Label Id: 1 Name: automobile\n"
     ]
    },
    {
     "data": {
      "image/png": "[encoded data removed]",
      "text/plain": [
       "<matplotlib.figure.Figure at 0x7f9882f45fd0>"
      ]
     },
     "metadata": {
      "image/png": {
       "height": 250,
       "width": 253
      }
     },
     "output_type": "display_data"
    }
   ],
   "source": [
    "%matplotlib inline\n",
    "%config InlineBackend.figure_format = 'retina'\n",
    "\n",
    "import helper\n",
    "import numpy as np\n",
    "\n",
    "# Explore the dataset\n",
    "batch_id = 1\n",
    "sample_id = 5\n",
    "helper.display_stats(cifar10_dataset_folder_path, batch_id, sample_id)"
   ]
  },
  {
   "cell_type": "markdown",
   "metadata": {},
   "source": [
    "## Implement Preprocess Functions\n",
    "### Normalize\n",
    "In the cell below, implement the `normalize` function to take in image data, `x`, and return it as a normalized Numpy array. The values should be in the range of 0 to 1, inclusive.  The return object should be the same shape as `x`."
   ]
  },
  {
   "cell_type": "code",
   "execution_count": 3,
   "metadata": {
    "collapsed": false
   },
   "outputs": [
    {
     "name": "stdout",
     "output_type": "stream",
     "text": [
      "Tests Passed\n"
     ]
    }
   ],
   "source": [
    "def normalize(x):\n",
    "    \"\"\"\n",
    "    Normalize a list of sample image data in the range of 0 to 1\n",
    "    : x: List of image data.  The image shape is (32, 32, 3)\n",
    "    : return: Numpy array of normalize data\n",
    "    \"\"\"\n",
    "    # min-max\n",
    "    amin = np.amin(x)\n",
    "    amax = np.amax(x)\n",
    "    return (x - amin) / (amax - amin)\n",
    "\n",
    "\"\"\"\n",
    "DON'T MODIFY ANYTHING IN THIS CELL THAT IS BELOW THIS LINE\n",
    "\"\"\"\n",
    "tests.test_normalize(normalize)"
   ]
  },
  {
   "cell_type": "markdown",
   "metadata": {},
   "source": [
    "### One-hot encode\n",
    "Just like the previous code cell, you'll be implementing a function for preprocessing.  This time, you'll implement the `one_hot_encode` function. The input, `x`, are a list of labels.  Implement the function to return the list of labels as One-Hot encoded Numpy array.  The possible values for labels are 0 to 9. The one-hot encoding function should return the same encoding for each value between each call to `one_hot_encode`.  Make sure to save the map of encodings outside the function.\n",
    "\n",
    "**Hint:**\n",
    "\n",
    "Look into LabelBinarizer in the preprocessing module of sklearn."
   ]
  },
  {
   "cell_type": "code",
   "execution_count": 4,
   "metadata": {
    "collapsed": false
   },
   "outputs": [
    {
     "name": "stdout",
     "output_type": "stream",
     "text": [
      "Tests Passed\n"
     ]
    }
   ],
   "source": [
    "N_CATEGORY = 10\n",
    "def one_hot_encode(x):\n",
    "    \"\"\"\n",
    "    One hot encode a list of sample labels. Return a one-hot encoded vector for each label.\n",
    "    : x: List of sample Labels\n",
    "    : return: Numpy array of one-hot encoded labels\n",
    "    \"\"\"\n",
    "    # TODO: Implement Function\n",
    "    x_length = len(x)\n",
    "    ret = np.zeros(shape=(x_length, N_CATEGORY))\n",
    "    for i in range(x_length):\n",
    "        ret[i][x[i]] = 1\n",
    "    return ret\n",
    "\n",
    "\n",
    "\"\"\"\n",
    "DON'T MODIFY ANYTHING IN THIS CELL THAT IS BELOW THIS LINE\n",
    "\"\"\"\n",
    "tests.test_one_hot_encode(one_hot_encode)"
   ]
  },
  {
   "cell_type": "markdown",
   "metadata": {},
   "source": [
    "### Randomize Data\n",
    "As you saw from exploring the data above, the order of the samples are randomized.  It doesn't hurt to randomize it again, but you don't need to for this dataset."
   ]
  },
  {
   "cell_type": "markdown",
   "metadata": {},
   "source": [
    "## Preprocess all the data and save it\n",
    "Running the code cell below will preprocess all the CIFAR-10 data and save it to file. The code below also uses 10% of the training data for validation."
   ]
  },
  {
   "cell_type": "code",
   "execution_count": 5,
   "metadata": {
    "collapsed": true
   },
   "outputs": [],
   "source": [
    "\"\"\"\n",
    "DON'T MODIFY ANYTHING IN THIS CELL\n",
    "\"\"\"\n",
    "# Preprocess Training, Validation, and Testing Data\n",
    "helper.preprocess_and_save_data(cifar10_dataset_folder_path, normalize, one_hot_encode)"
   ]
  },
  {
   "cell_type": "markdown",
   "metadata": {},
   "source": [
    "# Check Point\n",
    "This is your first checkpoint.  If you ever decide to come back to this notebook or have to restart the notebook, you can start from here.  The preprocessed data has been saved to disk."
   ]
  },
  {
   "cell_type": "code",
   "execution_count": 6,
   "metadata": {
    "collapsed": true
   },
   "outputs": [],
   "source": [
    "\"\"\"\n",
    "DON'T MODIFY ANYTHING IN THIS CELL\n",
    "\"\"\"\n",
    "import pickle\n",
    "import problem_unittests as tests\n",
    "import helper\n",
    "\n",
    "# Load the Preprocessed Validation data\n",
    "valid_features, valid_labels = pickle.load(open('preprocess_validation.p', mode='rb'))"
   ]
  },
  {
   "cell_type": "markdown",
   "metadata": {},
   "source": [
    "## Build the network\n",
    "For the neural network, you'll build each layer into a function.  Most of the code you've seen has been outside of functions. To test your code more thoroughly, we require that you put each layer in a function.  This allows us to give you better feedback and test for simple mistakes using our unittests before you submit your project.\n",
    "\n",
    ">**Note:** If you're finding it hard to dedicate enough time for this course each week, we've provided a small shortcut to this part of the project. In the next couple of problems, you'll have the option to use classes from the [TensorFlow Layers](https://www.tensorflow.org/api_docs/python/tf/layers) or [TensorFlow Layers (contrib)](https://www.tensorflow.org/api_guides/python/contrib.layers) packages to build each layer, except the layers you build in the \"Convolutional and Max Pooling Layer\" section.  TF Layers is similar to Keras's and TFLearn's abstraction to layers, so it's easy to pickup.\n",
    "\n",
    ">However, if you would like to get the most out of this course, try to solve all the problems _without_ using anything from the TF Layers packages. You **can** still use classes from other packages that happen to have the same name as ones you find in TF Layers! For example, instead of using the TF Layers version of the `conv2d` class, [tf.layers.conv2d](https://www.tensorflow.org/api_docs/python/tf/layers/conv2d), you would want to use the TF Neural Network version of `conv2d`, [tf.nn.conv2d](https://www.tensorflow.org/api_docs/python/tf/nn/conv2d). \n",
    "\n",
    "Let's begin!\n",
    "\n",
    "### Input\n",
    "The neural network needs to read the image data, one-hot encoded labels, and dropout keep probability. Implement the following functions\n",
    "* Implement `neural_net_image_input`\n",
    " * Return a [TF Placeholder](https://www.tensorflow.org/api_docs/python/tf/placeholder)\n",
    " * Set the shape using `image_shape` with batch size set to `None`.\n",
    " * Name the TensorFlow placeholder \"x\" using the TensorFlow `name` parameter in the [TF Placeholder](https://www.tensorflow.org/api_docs/python/tf/placeholder).\n",
    "* Implement `neural_net_label_input`\n",
    " * Return a [TF Placeholder](https://www.tensorflow.org/api_docs/python/tf/placeholder)\n",
    " * Set the shape using `n_classes` with batch size set to `None`.\n",
    " * Name the TensorFlow placeholder \"y\" using the TensorFlow `name` parameter in the [TF Placeholder](https://www.tensorflow.org/api_docs/python/tf/placeholder).\n",
    "* Implement `neural_net_keep_prob_input`\n",
    " * Return a [TF Placeholder](https://www.tensorflow.org/api_docs/python/tf/placeholder) for dropout keep probability.\n",
    " * Name the TensorFlow placeholder \"keep_prob\" using the TensorFlow `name` parameter in the [TF Placeholder](https://www.tensorflow.org/api_docs/python/tf/placeholder).\n",
    "\n",
    "These names will be used at the end of the project to load your saved model.\n",
    "\n",
    "Note: `None` for shapes in TensorFlow allow for a dynamic size."
   ]
  },
  {
   "cell_type": "code",
   "execution_count": 7,
   "metadata": {
    "collapsed": false
   },
   "outputs": [
    {
     "name": "stdout",
     "output_type": "stream",
     "text": [
      "Image Input Tests Passed.\n",
      "Label Input Tests Passed.\n",
      "Keep Prob Tests Passed.\n"
     ]
    }
   ],
   "source": [
    "import tensorflow as tf\n",
    "\n",
    "def neural_net_image_input(image_shape):\n",
    "    \"\"\"\n",
    "    Return a Tensor for a batch of image input\n",
    "    : image_shape: Shape of the images\n",
    "    : return: Tensor for image input.\n",
    "    \"\"\"\n",
    "    # TODO: Implement Function\n",
    "    return tf.placeholder(tf.float32, \\\n",
    "                          shape = [None, image_shape[0], image_shape[1], image_shape[2]], name = 'x')\n",
    "\n",
    "\n",
    "def neural_net_label_input(n_classes):\n",
    "    \"\"\"\n",
    "    Return a Tensor for a batch of label input\n",
    "    : n_classes: Number of classes\n",
    "    : return: Tensor for label input.\n",
    "    \"\"\"\n",
    "    # TODO: Implement Function\n",
    "    return tf.placeholder(tf.float32, shape = [None, n_classes], name = 'y')\n",
    "\n",
    "\n",
    "def neural_net_keep_prob_input():\n",
    "    \"\"\"\n",
    "    Return a Tensor for keep probability\n",
    "    : return: Tensor for keep probability.\n",
    "    \"\"\"\n",
    "    # TODO: Implement Function\n",
    "    return tf.placeholder(tf.float32, name = 'keep_prob')\n",
    "\n",
    "\"\"\"\n",
    "DON'T MODIFY ANYTHING IN THIS CELL THAT IS BELOW THIS LINE\n",
    "\"\"\"\n",
    "tf.reset_default_graph()\n",
    "tests.test_nn_image_inputs(neural_net_image_input)\n",
    "tests.test_nn_label_inputs(neural_net_label_input)\n",
    "tests.test_nn_keep_prob_inputs(neural_net_keep_prob_input)"
   ]
  },
  {
   "cell_type": "markdown",
   "metadata": {},
   "source": [
    "### Convolution and Max Pooling Layer\n",
    "Convolution layers have a lot of success with images. For this code cell, you should implement the function `conv2d_maxpool` to apply convolution then max pooling:\n",
    "* Create the weight and bias using `conv_ksize`, `conv_num_outputs` and the shape of `x_tensor`.\n",
    "* Apply a convolution to `x_tensor` using weight and `conv_strides`.\n",
    " * We recommend you use same padding, but you're welcome to use any padding.\n",
    "* Add bias\n",
    "* Add a nonlinear activation to the convolution.\n",
    "* Apply Max Pooling using `pool_ksize` and `pool_strides`.\n",
    " * We recommend you use same padding, but you're welcome to use any padding.\n",
    "\n",
    "**Note:** You **can't** use [TensorFlow Layers](https://www.tensorflow.org/api_docs/python/tf/layers) or [TensorFlow Layers (contrib)](https://www.tensorflow.org/api_guides/python/contrib.layers) for **this** layer, but you can still use TensorFlow's [Neural Network](https://www.tensorflow.org/api_docs/python/tf/nn) package. You may still use the shortcut option for all the **other** layers.\n",
    "\n",
    "** Hint: **\n",
    "\n",
    "When unpacking values as an argument in Python, look into the [unpacking](https://docs.python.org/3/tutorial/controlflow.html#unpacking-argument-lists) operator. "
   ]
  },
  {
   "cell_type": "code",
   "execution_count": 8,
   "metadata": {
    "collapsed": false
   },
   "outputs": [
    {
     "name": "stdout",
     "output_type": "stream",
     "text": [
      "Tests Passed\n"
     ]
    }
   ],
   "source": [
    "def conv2d_maxpool(x_tensor, conv_num_outputs, conv_ksize, conv_strides, pool_ksize, pool_strides):\n",
    "    \"\"\"\n",
    "    Apply convolution then max pooling to x_tensor\n",
    "    :param x_tensor: TensorFlow Tensor\n",
    "    :param conv_num_outputs: Number of outputs for the convolutional layer\n",
    "    :param conv_ksize: kernal size 2-D Tuple for the convolutional layer\n",
    "    :param conv_strides: Stride 2-D Tuple for convolution\n",
    "    :param pool_ksize: kernal size 2-D Tuple for pool\n",
    "    :param pool_strides: Stride 2-D Tuple for pool\n",
    "    : return: A tensor that represents convolution and max pooling of x_tensor\n",
    "    \"\"\"\n",
    "    # TODO: Implement Function\n",
    "    #print (x_tensor)\n",
    "    #print (conv_num_outputs)\n",
    "    #print (conv_ksize)\n",
    "    #print (conv_strides)\n",
    "    #print (pool_ksize)\n",
    "    #print (pool_strides)\n",
    "    \n",
    "    weight_shape = [conv_ksize[0], conv_ksize[1], x_tensor.get_shape().as_list()[-1], conv_num_outputs]\n",
    "    weight = tf.Variable(tf.random_normal(shape = weight_shape, stddev = 0.01))\n",
    "    \n",
    "    bias = tf.Variable(tf.zeros(conv_num_outputs, dtype = tf.float32))\n",
    "    \n",
    "    conv_layer = tf.nn.conv2d(x_tensor, weight, strides=[1, conv_strides[0], conv_strides[1], 1], padding='SAME')\n",
    "    conv_layer = tf.nn.bias_add(conv_layer, bias)\n",
    "    conv_layer = tf.nn.relu(conv_layer)\n",
    "    conv_layer = tf.nn.max_pool(conv_layer, ksize=[1, pool_ksize[0], pool_ksize[1], 1], \\\n",
    "                          strides=[1, pool_strides[0], pool_strides[1], 1], padding='SAME')\n",
    "    \n",
    "    return conv_layer\n",
    "\n",
    "\n",
    "\"\"\"\n",
    "DON'T MODIFY ANYTHING IN THIS CELL THAT IS BELOW THIS LINE\n",
    "\"\"\"\n",
    "tests.test_con_pool(conv2d_maxpool)"
   ]
  },
  {
   "cell_type": "markdown",
   "metadata": {},
   "source": [
    "### Flatten Layer\n",
    "Implement the `flatten` function to change the dimension of `x_tensor` from a 4-D tensor to a 2-D tensor.  The output should be the shape (*Batch Size*, *Flattened Image Size*). Shortcut option: you can use classes from the [TensorFlow Layers](https://www.tensorflow.org/api_docs/python/tf/layers) or [TensorFlow Layers (contrib)](https://www.tensorflow.org/api_guides/python/contrib.layers) packages for this layer. For more of a challenge, only use other TensorFlow packages."
   ]
  },
  {
   "cell_type": "code",
   "execution_count": 9,
   "metadata": {
    "collapsed": false
   },
   "outputs": [
    {
     "name": "stdout",
     "output_type": "stream",
     "text": [
      "Tests Passed\n"
     ]
    }
   ],
   "source": [
    "def flatten(x_tensor):\n",
    "    \"\"\"\n",
    "    Flatten x_tensor to (Batch Size, Flattened Image Size)\n",
    "    : x_tensor: A tensor of size (Batch Size, ...), where ... are the image dimensions.\n",
    "    : return: A tensor of size (Batch Size, Flattened Image Size).\n",
    "    \"\"\"\n",
    "    # TODO: Implement Function\n",
    "    tensor_shape = x_tensor.get_shape().as_list()\n",
    "    flattend_image_size = tensor_shape[1] * tensor_shape[2] * tensor_shape[3]\n",
    "    #batch is None\n",
    "    return tf.reshape(x_tensor, [tf.shape(x_tensor)[0], flattend_image_size])\n",
    "\n",
    "\n",
    "\"\"\"\n",
    "DON'T MODIFY ANYTHING IN THIS CELL THAT IS BELOW THIS LINE\n",
    "\"\"\"\n",
    "tests.test_flatten(flatten)"
   ]
  },
  {
   "cell_type": "markdown",
   "metadata": {},
   "source": [
    "### Fully-Connected Layer\n",
    "Implement the `fully_conn` function to apply a fully connected layer to `x_tensor` with the shape (*Batch Size*, *num_outputs*). Shortcut option: you can use classes from the [TensorFlow Layers](https://www.tensorflow.org/api_docs/python/tf/layers) or [TensorFlow Layers (contrib)](https://www.tensorflow.org/api_guides/python/contrib.layers) packages for this layer. For more of a challenge, only use other TensorFlow packages."
   ]
  },
  {
   "cell_type": "code",
   "execution_count": 10,
   "metadata": {
    "collapsed": false
   },
   "outputs": [
    {
     "name": "stdout",
     "output_type": "stream",
     "text": [
      "Tests Passed\n"
     ]
    }
   ],
   "source": [
    "def fully_conn(x_tensor, num_outputs):\n",
    "    \"\"\"\n",
    "    Apply a fully connected layer to x_tensor using weight and bias\n",
    "    : x_tensor: A 2-D tensor where the first dimension is batch size.\n",
    "    : num_outputs: The number of output that the new tensor should be.\n",
    "    : return: A 2-D tensor where the second dimension is num_outputs.\n",
    "    \"\"\"\n",
    "    # TODO: Implement Function\n",
    "    tensor_shape = x_tensor.get_shape().as_list()\n",
    "    weight = tf.Variable(tf.random_normal(shape = [tensor_shape[1], num_outputs], stddev = 0.01))\n",
    "    bias = tf.Variable(tf.zeros(num_outputs, tf.float32))\n",
    "    \n",
    "    full_connected_layer = tf.add(tf.matmul(x_tensor, weight), bias)\n",
    "    full_connected_layer = tf.nn.relu(full_connected_layer)\n",
    "    \n",
    "    return full_connected_layer\n",
    "\n",
    "\n",
    "\"\"\"\n",
    "DON'T MODIFY ANYTHING IN THIS CELL THAT IS BELOW THIS LINE\n",
    "\"\"\"\n",
    "tests.test_fully_conn(fully_conn)"
   ]
  },
  {
   "cell_type": "markdown",
   "metadata": {},
   "source": [
    "### Output Layer\n",
    "Implement the `output` function to apply a fully connected layer to `x_tensor` with the shape (*Batch Size*, *num_outputs*). Shortcut option: you can use classes from the [TensorFlow Layers](https://www.tensorflow.org/api_docs/python/tf/layers) or [TensorFlow Layers (contrib)](https://www.tensorflow.org/api_guides/python/contrib.layers) packages for this layer. For more of a challenge, only use other TensorFlow packages.\n",
    "\n",
    "**Note:** Activation, softmax, or cross entropy should **not** be applied to this."
   ]
  },
  {
   "cell_type": "code",
   "execution_count": 11,
   "metadata": {
    "collapsed": false
   },
   "outputs": [
    {
     "name": "stdout",
     "output_type": "stream",
     "text": [
      "Tests Passed\n"
     ]
    }
   ],
   "source": [
    "def output(x_tensor, num_outputs):\n",
    "    \"\"\"\n",
    "    Apply a output layer to x_tensor using weight and bias\n",
    "    : x_tensor: A 2-D tensor where the first dimension is batch size.\n",
    "    : num_outputs: The number of output that the new tensor should be.\n",
    "    : return: A 2-D tensor where the second dimension is num_outputs.\n",
    "    \"\"\"\n",
    "    # TODO: Implement Function\n",
    "    tensor_shape = x_tensor.get_shape().as_list()\n",
    "    weight = tf.Variable(tf.random_normal(shape = [tensor_shape[1], num_outputs], stddev = 0.01))\n",
    "    bias = tf.Variable(tf.zeros(num_outputs, tf.float32))\n",
    "    \n",
    "    output_layer = tf.add(tf.matmul(x_tensor, weight), bias)\n",
    "    return output_layer\n",
    "\n",
    "\n",
    "\"\"\"\n",
    "DON'T MODIFY ANYTHING IN THIS CELL THAT IS BELOW THIS LINE\n",
    "\"\"\"\n",
    "tests.test_output(output)"
   ]
  },
  {
   "cell_type": "markdown",
   "metadata": {},
   "source": [
    "### Create Convolutional Model\n",
    "Implement the function `conv_net` to create a convolutional neural network model. The function takes in a batch of images, `x`, and outputs logits.  Use the layers you created above to create this model:\n",
    "\n",
    "* Apply 1, 2, or 3 Convolution and Max Pool layers\n",
    "* Apply a Flatten Layer\n",
    "* Apply 1, 2, or 3 Fully Connected Layers\n",
    "* Apply an Output Layer\n",
    "* Return the output\n",
    "* Apply [TensorFlow's Dropout](https://www.tensorflow.org/api_docs/python/tf/nn/dropout) to one or more layers in the model using `keep_prob`. "
   ]
  },
  {
   "cell_type": "code",
   "execution_count": 25,
   "metadata": {
    "collapsed": false
   },
   "outputs": [
    {
     "name": "stdout",
     "output_type": "stream",
     "text": [
      "Neural Network Built!\n"
     ]
    }
   ],
   "source": [
    "def conv_net(x, keep_prob):\n",
    "    \"\"\"\n",
    "    Create a convolutional neural network model\n",
    "    : x: Placeholder tensor that holds image data.\n",
    "    : keep_prob: Placeholder tensor that hold dropout keep probability.\n",
    "    : return: Tensor that represents logits\n",
    "    \"\"\"\n",
    "    # TODO: Apply 1, 2, or 3 Convolution and Max Pool layers\n",
    "    #    Play around with different number of outputs, kernel size and stride\n",
    "    # Function Definition from Above:\n",
    "    conv_layer1 = conv2d_maxpool(x,\n",
    "                                 conv_num_outputs = 64, \n",
    "                                 conv_ksize = [5, 5], \n",
    "                                 conv_strides = [1, 1], \n",
    "                                 pool_ksize = [3, 3], \n",
    "                                 pool_strides = [2, 2])\n",
    "    \n",
    "    conv_layer2 = conv2d_maxpool(conv_layer1,\n",
    "                                 conv_num_outputs = 128,\n",
    "                                 conv_ksize = [3, 3],\n",
    "                                 conv_strides = [1, 1],\n",
    "                                 pool_ksize = [2, 2],\n",
    "                                 pool_strides = [1, 1])\n",
    "\n",
    "    # TODO: Apply a Flatten Layer\n",
    "    # Function Definition from Above:\n",
    "    flat = flatten(conv_layer2)\n",
    "    \n",
    "\n",
    "    # TODO: Apply 1, 2, or 3 Fully Connected Layers\n",
    "    #    Play around with different number of outputs\n",
    "    # Function Definition from Above:\n",
    "    full_connect_layer = fully_conn(flat, num_outputs = 128)\n",
    "    full_connect_layer = tf.nn.dropout(full_connect_layer, keep_prob)\n",
    "    \n",
    "    # TODO: Apply an Output Layer\n",
    "    #    Set this to the number of classes\n",
    "    # Function Definition from Above:\n",
    "    #   output(x_tensor, num_outputs)\n",
    "    num_classes = 10\n",
    "    output_layer = output(full_connect_layer, num_outputs = num_classes)\n",
    "    \n",
    "    # TODO: return output\n",
    "    return output_layer\n",
    "\n",
    "\n",
    "\"\"\"\n",
    "DON'T MODIFY ANYTHING IN THIS CELL THAT IS BELOW THIS LINE\n",
    "\"\"\"\n",
    "\n",
    "##############################\n",
    "## Build the Neural Network ##\n",
    "##############################\n",
    "\n",
    "# Remove previous weights, bias, inputs, etc..\n",
    "tf.reset_default_graph()\n",
    "\n",
    "# Inputs\n",
    "x = neural_net_image_input((32, 32, 3))\n",
    "y = neural_net_label_input(10)\n",
    "keep_prob = neural_net_keep_prob_input()\n",
    "\n",
    "# Model\n",
    "logits = conv_net(x, keep_prob)\n",
    "\n",
    "# Name logits Tensor, so that is can be loaded from disk after training\n",
    "logits = tf.identity(logits, name='logits')\n",
    "\n",
    "# Loss and Optimizer\n",
    "cost = tf.reduce_mean(tf.nn.softmax_cross_entropy_with_logits(logits=logits, labels=y))\n",
    "optimizer = tf.train.AdamOptimizer().minimize(cost)\n",
    "\n",
    "# Accuracy\n",
    "correct_pred = tf.equal(tf.argmax(logits, 1), tf.argmax(y, 1))\n",
    "accuracy = tf.reduce_mean(tf.cast(correct_pred, tf.float32), name='accuracy')\n",
    "\n",
    "tests.test_conv_net(conv_net)"
   ]
  },
  {
   "cell_type": "markdown",
   "metadata": {},
   "source": [
    "## Train the Neural Network\n",
    "### Single Optimization\n",
    "Implement the function `train_neural_network` to do a single optimization.  The optimization should use `optimizer` to optimize in `session` with a `feed_dict` of the following:\n",
    "* `x` for image input\n",
    "* `y` for labels\n",
    "* `keep_prob` for keep probability for dropout\n",
    "\n",
    "This function will be called for each batch, so `tf.global_variables_initializer()` has already been called.\n",
    "\n",
    "Note: Nothing needs to be returned. This function is only optimizing the neural network."
   ]
  },
  {
   "cell_type": "code",
   "execution_count": 21,
   "metadata": {
    "collapsed": false
   },
   "outputs": [
    {
     "name": "stdout",
     "output_type": "stream",
     "text": [
      "Tests Passed\n"
     ]
    }
   ],
   "source": [
    "def train_neural_network(session, optimizer, keep_probability, feature_batch, label_batch):\n",
    "    \"\"\"\n",
    "    Optimize the session on a batch of images and labels\n",
    "    : session: Current TensorFlow session\n",
    "    : optimizer: TensorFlow optimizer function\n",
    "    : keep_probability: keep probability\n",
    "    : feature_batch: Batch of Numpy image data\n",
    "    : label_batch: Batch of Numpy label data\n",
    "    \"\"\"\n",
    "    # TODO: Implement Function\n",
    "    session.run(optimizer, feed_dict = {x: feature_batch, y: label_batch, keep_prob: keep_probability})\n",
    "\n",
    "\n",
    "\"\"\"\n",
    "DON'T MODIFY ANYTHING IN THIS CELL THAT IS BELOW THIS LINE\n",
    "\"\"\"\n",
    "tests.test_train_nn(train_neural_network)"
   ]
  },
  {
   "cell_type": "markdown",
   "metadata": {},
   "source": [
    "### Show Stats\n",
    "Implement the function `print_stats` to print loss and validation accuracy.  Use the global variables `valid_features` and `valid_labels` to calculate validation accuracy.  Use a keep probability of `1.0` to calculate the loss and validation accuracy."
   ]
  },
  {
   "cell_type": "code",
   "execution_count": 22,
   "metadata": {
    "collapsed": true
   },
   "outputs": [],
   "source": [
    "def print_stats(session, feature_batch, label_batch, cost, accuracy):\n",
    "    \"\"\"\n",
    "    Print information about loss and validation accuracy\n",
    "    : session: Current TensorFlow session\n",
    "    : feature_batch: Batch of Numpy image data\n",
    "    : label_batch: Batch of Numpy label data\n",
    "    : cost: TensorFlow cost function\n",
    "    : accuracy: TensorFlow accuracy function\n",
    "    \"\"\"\n",
    "    # TODO: Implement Function\n",
    "    loss = session.run(cost, feed_dict = {x: feature_batch, y: label_batch, keep_prob: 1})\n",
    "    accuracy = session.run(accuracy, feed_dict = {x: feature_batch, y: label_batch, keep_prob: 1})\n",
    "    \n",
    "    print (\"Loss is %f, accuracy is %f\" %(loss, accuracy))"
   ]
  },
  {
   "cell_type": "markdown",
   "metadata": {},
   "source": [
    "### Hyperparameters\n",
    "Tune the following parameters:\n",
    "* Set `epochs` to the number of iterations until the network stops learning or start overfitting\n",
    "* Set `batch_size` to the highest number that your machine has memory for.  Most people set them to common sizes of memory:\n",
    " * 64\n",
    " * 128\n",
    " * 256\n",
    " * ...\n",
    "* Set `keep_probability` to the probability of keeping a node using dropout"
   ]
  },
  {
   "cell_type": "code",
   "execution_count": 26,
   "metadata": {
    "collapsed": true
   },
   "outputs": [],
   "source": [
    "# TODO: Tune Parameters\n",
    "epochs = 50\n",
    "batch_size = 256\n",
    "keep_probability = 0.75"
   ]
  },
  {
   "cell_type": "markdown",
   "metadata": {},
   "source": [
    "### Train on a Single CIFAR-10 Batch\n",
    "Instead of training the neural network on all the CIFAR-10 batches of data, let's use a single batch. This should save time while you iterate on the model to get a better accuracy.  Once the final validation accuracy is 50% or greater, run the model on all the data in the next section."
   ]
  },
  {
   "cell_type": "code",
   "execution_count": 27,
   "metadata": {
    "collapsed": false
   },
   "outputs": [
    {
     "name": "stdout",
     "output_type": "stream",
     "text": [
      "Checking the Training on a Single Batch...\n",
      "Epoch  1, CIFAR-10 Batch 1:  Loss is 2.152613, accuracy is 0.225000\n",
      "Epoch  2, CIFAR-10 Batch 1:  Loss is 2.076687, accuracy is 0.300000\n",
      "Epoch  3, CIFAR-10 Batch 1:  Loss is 1.946189, accuracy is 0.375000\n",
      "Epoch  4, CIFAR-10 Batch 1:  Loss is 1.770077, accuracy is 0.375000\n",
      "Epoch  5, CIFAR-10 Batch 1:  Loss is 1.681793, accuracy is 0.350000\n",
      "Epoch  6, CIFAR-10 Batch 1:  Loss is 1.527322, accuracy is 0.450000\n",
      "Epoch  7, CIFAR-10 Batch 1:  Loss is 1.398025, accuracy is 0.450000\n",
      "Epoch  8, CIFAR-10 Batch 1:  Loss is 1.252605, accuracy is 0.500000\n",
      "Epoch  9, CIFAR-10 Batch 1:  Loss is 1.143959, accuracy is 0.625000\n",
      "Epoch 10, CIFAR-10 Batch 1:  Loss is 0.994209, accuracy is 0.650000\n",
      "Epoch 11, CIFAR-10 Batch 1:  Loss is 0.898835, accuracy is 0.675000\n",
      "Epoch 12, CIFAR-10 Batch 1:  Loss is 0.789548, accuracy is 0.750000\n",
      "Epoch 13, CIFAR-10 Batch 1:  Loss is 0.696607, accuracy is 0.800000\n",
      "Epoch 14, CIFAR-10 Batch 1:  Loss is 0.666733, accuracy is 0.800000\n",
      "Epoch 15, CIFAR-10 Batch 1:  Loss is 0.517772, accuracy is 0.875000\n",
      "Epoch 16, CIFAR-10 Batch 1:  Loss is 0.502557, accuracy is 0.825000\n",
      "Epoch 17, CIFAR-10 Batch 1:  Loss is 0.423983, accuracy is 0.900000\n",
      "Epoch 18, CIFAR-10 Batch 1:  Loss is 0.407262, accuracy is 0.900000\n",
      "Epoch 19, CIFAR-10 Batch 1:  Loss is 0.390729, accuracy is 0.900000\n",
      "Epoch 20, CIFAR-10 Batch 1:  Loss is 0.294571, accuracy is 0.950000\n",
      "Epoch 21, CIFAR-10 Batch 1:  Loss is 0.265731, accuracy is 0.950000\n",
      "Epoch 22, CIFAR-10 Batch 1:  Loss is 0.279971, accuracy is 0.950000\n",
      "Epoch 23, CIFAR-10 Batch 1:  Loss is 0.272976, accuracy is 0.950000\n",
      "Epoch 24, CIFAR-10 Batch 1:  Loss is 0.240484, accuracy is 0.950000\n",
      "Epoch 25, CIFAR-10 Batch 1:  Loss is 0.162938, accuracy is 1.000000\n",
      "Epoch 26, CIFAR-10 Batch 1:  Loss is 0.151290, accuracy is 0.975000\n",
      "Epoch 27, CIFAR-10 Batch 1:  Loss is 0.132724, accuracy is 1.000000\n",
      "Epoch 28, CIFAR-10 Batch 1:  Loss is 0.132216, accuracy is 0.975000\n",
      "Epoch 29, CIFAR-10 Batch 1:  Loss is 0.123930, accuracy is 1.000000\n",
      "Epoch 30, CIFAR-10 Batch 1:  Loss is 0.128694, accuracy is 0.975000\n",
      "Epoch 31, CIFAR-10 Batch 1:  Loss is 0.092127, accuracy is 1.000000\n",
      "Epoch 32, CIFAR-10 Batch 1:  Loss is 0.088469, accuracy is 1.000000\n",
      "Epoch 33, CIFAR-10 Batch 1:  Loss is 0.082850, accuracy is 1.000000\n",
      "Epoch 34, CIFAR-10 Batch 1:  Loss is 0.067135, accuracy is 1.000000\n",
      "Epoch 35, CIFAR-10 Batch 1:  Loss is 0.069872, accuracy is 1.000000\n",
      "Epoch 36, CIFAR-10 Batch 1:  Loss is 0.056459, accuracy is 1.000000\n",
      "Epoch 37, CIFAR-10 Batch 1:  Loss is 0.042078, accuracy is 1.000000\n",
      "Epoch 38, CIFAR-10 Batch 1:  Loss is 0.044371, accuracy is 1.000000\n",
      "Epoch 39, CIFAR-10 Batch 1:  Loss is 0.046221, accuracy is 1.000000\n",
      "Epoch 40, CIFAR-10 Batch 1:  Loss is 0.031755, accuracy is 1.000000\n",
      "Epoch 41, CIFAR-10 Batch 1:  Loss is 0.043137, accuracy is 1.000000\n",
      "Epoch 42, CIFAR-10 Batch 1:  Loss is 0.029349, accuracy is 1.000000\n",
      "Epoch 43, CIFAR-10 Batch 1:  Loss is 0.018007, accuracy is 1.000000\n",
      "Epoch 44, CIFAR-10 Batch 1:  Loss is 0.026187, accuracy is 1.000000\n",
      "Epoch 45, CIFAR-10 Batch 1:  Loss is 0.015835, accuracy is 1.000000\n",
      "Epoch 46, CIFAR-10 Batch 1:  Loss is 0.014184, accuracy is 1.000000\n",
      "Epoch 47, CIFAR-10 Batch 1:  Loss is 0.011799, accuracy is 1.000000\n",
      "Epoch 48, CIFAR-10 Batch 1:  Loss is 0.016104, accuracy is 1.000000\n",
      "Epoch 49, CIFAR-10 Batch 1:  Loss is 0.007660, accuracy is 1.000000\n",
      "Epoch 50, CIFAR-10 Batch 1:  Loss is 0.025165, accuracy is 1.000000\n"
     ]
    }
   ],
   "source": [
    "\"\"\"\n",
    "DON'T MODIFY ANYTHING IN THIS CELL\n",
    "\"\"\"\n",
    "print('Checking the Training on a Single Batch...')\n",
    "with tf.Session() as sess:\n",
    "    # Initializing the variables\n",
    "    sess.run(tf.global_variables_initializer())\n",
    "    \n",
    "    # Training cycle\n",
    "    for epoch in range(epochs):\n",
    "        batch_i = 1\n",
    "        for batch_features, batch_labels in helper.load_preprocess_training_batch(batch_i, batch_size):\n",
    "            train_neural_network(sess, optimizer, keep_probability, batch_features, batch_labels)\n",
    "        print('Epoch {:>2}, CIFAR-10 Batch {}:  '.format(epoch + 1, batch_i), end='')\n",
    "        print_stats(sess, batch_features, batch_labels, cost, accuracy)"
   ]
  },
  {
   "cell_type": "markdown",
   "metadata": {},
   "source": [
    "### Fully Train the Model\n",
    "Now that you got a good accuracy with a single CIFAR-10 batch, try it with all five batches."
   ]
  },
  {
   "cell_type": "code",
   "execution_count": 28,
   "metadata": {
    "collapsed": false
   },
   "outputs": [
    {
     "name": "stdout",
     "output_type": "stream",
     "text": [
      "Training...\n",
      "Epoch  1, CIFAR-10 Batch 1:  Loss is 2.197004, accuracy is 0.225000\n",
      "Epoch  1, CIFAR-10 Batch 2:  Loss is 1.833809, accuracy is 0.325000\n",
      "Epoch  1, CIFAR-10 Batch 3:  Loss is 1.526809, accuracy is 0.450000\n",
      "Epoch  1, CIFAR-10 Batch 4:  Loss is 1.658319, accuracy is 0.325000\n",
      "Epoch  1, CIFAR-10 Batch 5:  Loss is 1.569326, accuracy is 0.450000\n",
      "Epoch  2, CIFAR-10 Batch 1:  Loss is 1.790910, accuracy is 0.450000\n",
      "Epoch  2, CIFAR-10 Batch 2:  Loss is 1.408020, accuracy is 0.475000\n",
      "Epoch  2, CIFAR-10 Batch 3:  Loss is 1.103769, accuracy is 0.725000\n",
      "Epoch  2, CIFAR-10 Batch 4:  Loss is 1.301939, accuracy is 0.550000\n",
      "Epoch  2, CIFAR-10 Batch 5:  Loss is 1.339597, accuracy is 0.525000\n",
      "Epoch  3, CIFAR-10 Batch 1:  Loss is 1.383919, accuracy is 0.500000\n",
      "Epoch  3, CIFAR-10 Batch 2:  Loss is 1.081454, accuracy is 0.550000\n",
      "Epoch  3, CIFAR-10 Batch 3:  Loss is 0.938480, accuracy is 0.700000\n",
      "Epoch  3, CIFAR-10 Batch 4:  Loss is 1.138135, accuracy is 0.600000\n",
      "Epoch  3, CIFAR-10 Batch 5:  Loss is 1.164184, accuracy is 0.575000\n",
      "Epoch  4, CIFAR-10 Batch 1:  Loss is 1.200483, accuracy is 0.675000\n",
      "Epoch  4, CIFAR-10 Batch 2:  Loss is 0.905504, accuracy is 0.675000\n",
      "Epoch  4, CIFAR-10 Batch 3:  Loss is 0.815377, accuracy is 0.725000\n",
      "Epoch  4, CIFAR-10 Batch 4:  Loss is 0.905835, accuracy is 0.700000\n",
      "Epoch  4, CIFAR-10 Batch 5:  Loss is 0.929029, accuracy is 0.675000\n",
      "Epoch  5, CIFAR-10 Batch 1:  Loss is 1.013103, accuracy is 0.700000\n",
      "Epoch  5, CIFAR-10 Batch 2:  Loss is 0.735834, accuracy is 0.725000\n",
      "Epoch  5, CIFAR-10 Batch 3:  Loss is 0.607641, accuracy is 0.800000\n",
      "Epoch  5, CIFAR-10 Batch 4:  Loss is 0.777402, accuracy is 0.675000\n",
      "Epoch  5, CIFAR-10 Batch 5:  Loss is 0.738227, accuracy is 0.800000\n",
      "Epoch  6, CIFAR-10 Batch 1:  Loss is 0.840169, accuracy is 0.700000\n",
      "Epoch  6, CIFAR-10 Batch 2:  Loss is 0.610507, accuracy is 0.800000\n",
      "Epoch  6, CIFAR-10 Batch 3:  Loss is 0.576478, accuracy is 0.875000\n",
      "Epoch  6, CIFAR-10 Batch 4:  Loss is 0.630027, accuracy is 0.725000\n",
      "Epoch  6, CIFAR-10 Batch 5:  Loss is 0.645986, accuracy is 0.850000\n",
      "Epoch  7, CIFAR-10 Batch 1:  Loss is 0.712710, accuracy is 0.725000\n",
      "Epoch  7, CIFAR-10 Batch 2:  Loss is 0.485216, accuracy is 0.900000\n",
      "Epoch  7, CIFAR-10 Batch 3:  Loss is 0.419739, accuracy is 0.900000\n",
      "Epoch  7, CIFAR-10 Batch 4:  Loss is 0.524853, accuracy is 0.800000\n",
      "Epoch  7, CIFAR-10 Batch 5:  Loss is 0.508803, accuracy is 0.925000\n",
      "Epoch  8, CIFAR-10 Batch 1:  Loss is 0.580420, accuracy is 0.775000\n",
      "Epoch  8, CIFAR-10 Batch 2:  Loss is 0.467666, accuracy is 0.900000\n",
      "Epoch  8, CIFAR-10 Batch 3:  Loss is 0.360734, accuracy is 0.925000\n",
      "Epoch  8, CIFAR-10 Batch 4:  Loss is 0.393223, accuracy is 0.925000\n",
      "Epoch  8, CIFAR-10 Batch 5:  Loss is 0.444925, accuracy is 0.950000\n",
      "Epoch  9, CIFAR-10 Batch 1:  Loss is 0.437639, accuracy is 0.800000\n",
      "Epoch  9, CIFAR-10 Batch 2:  Loss is 0.371218, accuracy is 0.900000\n",
      "Epoch  9, CIFAR-10 Batch 3:  Loss is 0.303905, accuracy is 0.975000\n",
      "Epoch  9, CIFAR-10 Batch 4:  Loss is 0.333112, accuracy is 0.950000\n",
      "Epoch  9, CIFAR-10 Batch 5:  Loss is 0.342600, accuracy is 0.950000\n",
      "Epoch 10, CIFAR-10 Batch 1:  Loss is 0.349506, accuracy is 0.900000\n",
      "Epoch 10, CIFAR-10 Batch 2:  Loss is 0.299001, accuracy is 0.925000\n",
      "Epoch 10, CIFAR-10 Batch 3:  Loss is 0.261088, accuracy is 0.925000\n",
      "Epoch 10, CIFAR-10 Batch 4:  Loss is 0.263293, accuracy is 0.950000\n",
      "Epoch 10, CIFAR-10 Batch 5:  Loss is 0.283752, accuracy is 0.950000\n",
      "Epoch 11, CIFAR-10 Batch 1:  Loss is 0.291062, accuracy is 0.950000\n",
      "Epoch 11, CIFAR-10 Batch 2:  Loss is 0.270465, accuracy is 1.000000\n",
      "Epoch 11, CIFAR-10 Batch 3:  Loss is 0.225624, accuracy is 0.975000\n",
      "Epoch 11, CIFAR-10 Batch 4:  Loss is 0.218050, accuracy is 1.000000\n",
      "Epoch 11, CIFAR-10 Batch 5:  Loss is 0.256676, accuracy is 0.950000\n",
      "Epoch 12, CIFAR-10 Batch 1:  Loss is 0.229047, accuracy is 0.975000\n",
      "Epoch 12, CIFAR-10 Batch 2:  Loss is 0.217229, accuracy is 1.000000\n",
      "Epoch 12, CIFAR-10 Batch 3:  Loss is 0.188845, accuracy is 0.975000\n",
      "Epoch 12, CIFAR-10 Batch 4:  Loss is 0.217580, accuracy is 0.975000\n",
      "Epoch 12, CIFAR-10 Batch 5:  Loss is 0.236721, accuracy is 0.975000\n",
      "Epoch 13, CIFAR-10 Batch 1:  Loss is 0.194901, accuracy is 0.975000\n",
      "Epoch 13, CIFAR-10 Batch 2:  Loss is 0.201060, accuracy is 0.975000\n",
      "Epoch 13, CIFAR-10 Batch 3:  Loss is 0.161762, accuracy is 1.000000\n",
      "Epoch 13, CIFAR-10 Batch 4:  Loss is 0.176342, accuracy is 0.975000\n",
      "Epoch 13, CIFAR-10 Batch 5:  Loss is 0.182446, accuracy is 0.975000\n",
      "Epoch 14, CIFAR-10 Batch 1:  Loss is 0.147840, accuracy is 1.000000\n",
      "Epoch 14, CIFAR-10 Batch 2:  Loss is 0.139130, accuracy is 1.000000\n",
      "Epoch 14, CIFAR-10 Batch 3:  Loss is 0.116467, accuracy is 1.000000\n",
      "Epoch 14, CIFAR-10 Batch 4:  Loss is 0.135168, accuracy is 1.000000\n",
      "Epoch 14, CIFAR-10 Batch 5:  Loss is 0.130821, accuracy is 0.975000\n",
      "Epoch 15, CIFAR-10 Batch 1:  Loss is 0.136593, accuracy is 1.000000\n",
      "Epoch 15, CIFAR-10 Batch 2:  Loss is 0.119133, accuracy is 1.000000\n",
      "Epoch 15, CIFAR-10 Batch 3:  Loss is 0.127069, accuracy is 1.000000\n",
      "Epoch 15, CIFAR-10 Batch 4:  Loss is 0.120065, accuracy is 1.000000\n",
      "Epoch 15, CIFAR-10 Batch 5:  Loss is 0.125052, accuracy is 0.975000\n",
      "Epoch 16, CIFAR-10 Batch 1:  Loss is 0.111850, accuracy is 1.000000\n",
      "Epoch 16, CIFAR-10 Batch 2:  Loss is 0.101862, accuracy is 1.000000\n",
      "Epoch 16, CIFAR-10 Batch 3:  Loss is 0.095718, accuracy is 1.000000\n",
      "Epoch 16, CIFAR-10 Batch 4:  Loss is 0.089978, accuracy is 1.000000\n",
      "Epoch 16, CIFAR-10 Batch 5:  Loss is 0.106185, accuracy is 0.975000\n",
      "Epoch 17, CIFAR-10 Batch 1:  Loss is 0.106137, accuracy is 1.000000\n",
      "Epoch 17, CIFAR-10 Batch 2:  Loss is 0.061557, accuracy is 1.000000\n",
      "Epoch 17, CIFAR-10 Batch 3:  Loss is 0.070766, accuracy is 1.000000\n",
      "Epoch 17, CIFAR-10 Batch 4:  Loss is 0.079041, accuracy is 1.000000\n",
      "Epoch 17, CIFAR-10 Batch 5:  Loss is 0.079416, accuracy is 0.975000\n",
      "Epoch 18, CIFAR-10 Batch 1:  Loss is 0.119192, accuracy is 0.975000\n",
      "Epoch 18, CIFAR-10 Batch 2:  Loss is 0.092193, accuracy is 1.000000\n",
      "Epoch 18, CIFAR-10 Batch 3:  Loss is 0.052656, accuracy is 1.000000\n",
      "Epoch 18, CIFAR-10 Batch 4:  Loss is 0.058962, accuracy is 1.000000\n",
      "Epoch 18, CIFAR-10 Batch 5:  Loss is 0.073462, accuracy is 1.000000\n",
      "Epoch 19, CIFAR-10 Batch 1:  Loss is 0.101323, accuracy is 1.000000\n",
      "Epoch 19, CIFAR-10 Batch 2:  Loss is 0.069558, accuracy is 1.000000\n",
      "Epoch 19, CIFAR-10 Batch 3:  Loss is 0.072309, accuracy is 1.000000\n",
      "Epoch 19, CIFAR-10 Batch 4:  Loss is 0.061234, accuracy is 1.000000\n",
      "Epoch 19, CIFAR-10 Batch 5:  Loss is 0.054172, accuracy is 1.000000\n",
      "Epoch 20, CIFAR-10 Batch 1:  Loss is 0.074747, accuracy is 1.000000\n",
      "Epoch 20, CIFAR-10 Batch 2:  Loss is 0.048824, accuracy is 1.000000\n",
      "Epoch 20, CIFAR-10 Batch 3:  Loss is 0.076918, accuracy is 1.000000\n",
      "Epoch 20, CIFAR-10 Batch 4:  Loss is 0.063356, accuracy is 1.000000\n",
      "Epoch 20, CIFAR-10 Batch 5:  Loss is 0.058198, accuracy is 1.000000\n",
      "Epoch 21, CIFAR-10 Batch 1:  Loss is 0.068051, accuracy is 1.000000\n",
      "Epoch 21, CIFAR-10 Batch 2:  Loss is 0.046115, accuracy is 1.000000\n",
      "Epoch 21, CIFAR-10 Batch 3:  Loss is 0.052521, accuracy is 1.000000\n",
      "Epoch 21, CIFAR-10 Batch 4:  Loss is 0.038121, accuracy is 1.000000\n",
      "Epoch 21, CIFAR-10 Batch 5:  Loss is 0.042798, accuracy is 1.000000\n",
      "Epoch 22, CIFAR-10 Batch 1:  Loss is 0.051036, accuracy is 1.000000\n",
      "Epoch 22, CIFAR-10 Batch 2:  Loss is 0.047173, accuracy is 1.000000\n",
      "Epoch 22, CIFAR-10 Batch 3:  Loss is 0.062302, accuracy is 1.000000\n",
      "Epoch 22, CIFAR-10 Batch 4:  Loss is 0.037327, accuracy is 1.000000\n",
      "Epoch 22, CIFAR-10 Batch 5:  Loss is 0.045055, accuracy is 1.000000\n",
      "Epoch 23, CIFAR-10 Batch 1:  Loss is 0.044083, accuracy is 1.000000\n",
      "Epoch 23, CIFAR-10 Batch 2:  Loss is 0.031955, accuracy is 1.000000\n",
      "Epoch 23, CIFAR-10 Batch 3:  Loss is 0.045722, accuracy is 1.000000\n",
      "Epoch 23, CIFAR-10 Batch 4:  Loss is 0.039523, accuracy is 1.000000\n",
      "Epoch 23, CIFAR-10 Batch 5:  Loss is 0.037387, accuracy is 1.000000\n",
      "Epoch 24, CIFAR-10 Batch 1:  Loss is 0.052698, accuracy is 1.000000\n",
      "Epoch 24, CIFAR-10 Batch 2:  Loss is 0.033303, accuracy is 1.000000\n",
      "Epoch 24, CIFAR-10 Batch 3:  Loss is 0.044429, accuracy is 1.000000\n",
      "Epoch 24, CIFAR-10 Batch 4:  Loss is 0.027332, accuracy is 1.000000\n",
      "Epoch 24, CIFAR-10 Batch 5:  Loss is 0.025202, accuracy is 1.000000\n",
      "Epoch 25, CIFAR-10 Batch 1:  Loss is 0.051763, accuracy is 1.000000\n",
      "Epoch 25, CIFAR-10 Batch 2:  Loss is 0.025490, accuracy is 1.000000\n",
      "Epoch 25, CIFAR-10 Batch 3:  Loss is 0.020280, accuracy is 1.000000\n",
      "Epoch 25, CIFAR-10 Batch 4:  Loss is 0.042902, accuracy is 1.000000\n",
      "Epoch 25, CIFAR-10 Batch 5:  Loss is 0.031565, accuracy is 1.000000\n",
      "Epoch 26, CIFAR-10 Batch 1:  Loss is 0.056516, accuracy is 0.975000\n",
      "Epoch 26, CIFAR-10 Batch 2:  Loss is 0.036789, accuracy is 1.000000\n",
      "Epoch 26, CIFAR-10 Batch 3:  Loss is 0.019596, accuracy is 1.000000\n",
      "Epoch 26, CIFAR-10 Batch 4:  Loss is 0.020336, accuracy is 1.000000\n",
      "Epoch 26, CIFAR-10 Batch 5:  Loss is 0.033230, accuracy is 1.000000\n",
      "Epoch 27, CIFAR-10 Batch 1:  Loss is 0.045834, accuracy is 1.000000\n",
      "Epoch 27, CIFAR-10 Batch 2:  Loss is 0.025637, accuracy is 1.000000\n",
      "Epoch 27, CIFAR-10 Batch 3:  Loss is 0.013255, accuracy is 1.000000\n",
      "Epoch 27, CIFAR-10 Batch 4:  Loss is 0.022013, accuracy is 1.000000\n",
      "Epoch 27, CIFAR-10 Batch 5:  Loss is 0.020531, accuracy is 1.000000\n",
      "Epoch 28, CIFAR-10 Batch 1:  Loss is 0.036171, accuracy is 1.000000\n",
      "Epoch 28, CIFAR-10 Batch 2:  Loss is 0.025854, accuracy is 1.000000\n",
      "Epoch 28, CIFAR-10 Batch 3:  Loss is 0.020399, accuracy is 1.000000\n",
      "Epoch 28, CIFAR-10 Batch 4:  Loss is 0.026859, accuracy is 1.000000\n",
      "Epoch 28, CIFAR-10 Batch 5:  Loss is 0.016725, accuracy is 1.000000\n",
      "Epoch 29, CIFAR-10 Batch 1:  Loss is 0.024353, accuracy is 1.000000\n",
      "Epoch 29, CIFAR-10 Batch 2:  Loss is 0.015213, accuracy is 1.000000\n",
      "Epoch 29, CIFAR-10 Batch 3:  Loss is 0.012981, accuracy is 1.000000\n",
      "Epoch 29, CIFAR-10 Batch 4:  Loss is 0.022814, accuracy is 1.000000\n",
      "Epoch 29, CIFAR-10 Batch 5:  Loss is 0.016419, accuracy is 1.000000\n",
      "Epoch 30, CIFAR-10 Batch 1:  Loss is 0.032024, accuracy is 1.000000\n",
      "Epoch 30, CIFAR-10 Batch 2:  Loss is 0.021886, accuracy is 1.000000\n",
      "Epoch 30, CIFAR-10 Batch 3:  Loss is 0.011448, accuracy is 1.000000\n",
      "Epoch 30, CIFAR-10 Batch 4:  Loss is 0.011547, accuracy is 1.000000\n",
      "Epoch 30, CIFAR-10 Batch 5:  Loss is 0.013834, accuracy is 1.000000\n",
      "Epoch 31, CIFAR-10 Batch 1:  Loss is 0.029159, accuracy is 1.000000\n",
      "Epoch 31, CIFAR-10 Batch 2:  Loss is 0.017246, accuracy is 1.000000\n",
      "Epoch 31, CIFAR-10 Batch 3:  Loss is 0.007100, accuracy is 1.000000\n",
      "Epoch 31, CIFAR-10 Batch 4:  Loss is 0.011359, accuracy is 1.000000\n",
      "Epoch 31, CIFAR-10 Batch 5:  Loss is 0.018124, accuracy is 1.000000\n",
      "Epoch 32, CIFAR-10 Batch 1:  Loss is 0.033855, accuracy is 1.000000\n",
      "Epoch 32, CIFAR-10 Batch 2:  Loss is 0.012239, accuracy is 1.000000\n",
      "Epoch 32, CIFAR-10 Batch 3:  Loss is 0.007240, accuracy is 1.000000\n",
      "Epoch 32, CIFAR-10 Batch 4:  Loss is 0.013376, accuracy is 1.000000\n",
      "Epoch 32, CIFAR-10 Batch 5:  Loss is 0.021416, accuracy is 1.000000\n",
      "Epoch 33, CIFAR-10 Batch 1:  Loss is 0.031948, accuracy is 1.000000\n",
      "Epoch 33, CIFAR-10 Batch 2:  Loss is 0.016285, accuracy is 1.000000\n",
      "Epoch 33, CIFAR-10 Batch 3:  Loss is 0.004506, accuracy is 1.000000\n",
      "Epoch 33, CIFAR-10 Batch 4:  Loss is 0.003561, accuracy is 1.000000\n",
      "Epoch 33, CIFAR-10 Batch 5:  Loss is 0.009369, accuracy is 1.000000\n",
      "Epoch 34, CIFAR-10 Batch 1:  Loss is 0.023832, accuracy is 1.000000\n",
      "Epoch 34, CIFAR-10 Batch 2:  Loss is 0.014934, accuracy is 1.000000\n",
      "Epoch 34, CIFAR-10 Batch 3:  Loss is 0.003752, accuracy is 1.000000\n",
      "Epoch 34, CIFAR-10 Batch 4:  Loss is 0.006743, accuracy is 1.000000\n",
      "Epoch 34, CIFAR-10 Batch 5:  Loss is 0.009031, accuracy is 1.000000\n",
      "Epoch 35, CIFAR-10 Batch 1:  Loss is 0.026744, accuracy is 1.000000\n",
      "Epoch 35, CIFAR-10 Batch 2:  Loss is 0.007203, accuracy is 1.000000\n",
      "Epoch 35, CIFAR-10 Batch 3:  Loss is 0.004572, accuracy is 1.000000\n",
      "Epoch 35, CIFAR-10 Batch 4:  Loss is 0.007282, accuracy is 1.000000\n",
      "Epoch 35, CIFAR-10 Batch 5:  Loss is 0.011366, accuracy is 1.000000\n",
      "Epoch 36, CIFAR-10 Batch 1:  Loss is 0.015665, accuracy is 1.000000\n",
      "Epoch 36, CIFAR-10 Batch 2:  Loss is 0.005391, accuracy is 1.000000\n",
      "Epoch 36, CIFAR-10 Batch 3:  Loss is 0.003292, accuracy is 1.000000\n",
      "Epoch 36, CIFAR-10 Batch 4:  Loss is 0.003223, accuracy is 1.000000\n",
      "Epoch 36, CIFAR-10 Batch 5:  Loss is 0.005145, accuracy is 1.000000\n",
      "Epoch 37, CIFAR-10 Batch 1:  Loss is 0.021060, accuracy is 1.000000\n",
      "Epoch 37, CIFAR-10 Batch 2:  Loss is 0.007826, accuracy is 1.000000\n",
      "Epoch 37, CIFAR-10 Batch 3:  Loss is 0.003997, accuracy is 1.000000\n",
      "Epoch 37, CIFAR-10 Batch 4:  Loss is 0.003077, accuracy is 1.000000\n",
      "Epoch 37, CIFAR-10 Batch 5:  Loss is 0.005820, accuracy is 1.000000\n",
      "Epoch 38, CIFAR-10 Batch 1:  Loss is 0.007731, accuracy is 1.000000\n",
      "Epoch 38, CIFAR-10 Batch 2:  Loss is 0.007380, accuracy is 1.000000\n",
      "Epoch 38, CIFAR-10 Batch 3:  Loss is 0.004743, accuracy is 1.000000\n",
      "Epoch 38, CIFAR-10 Batch 4:  Loss is 0.004688, accuracy is 1.000000\n",
      "Epoch 38, CIFAR-10 Batch 5:  Loss is 0.009382, accuracy is 1.000000\n",
      "Epoch 39, CIFAR-10 Batch 1:  Loss is 0.006781, accuracy is 1.000000\n",
      "Epoch 39, CIFAR-10 Batch 2:  Loss is 0.009002, accuracy is 1.000000\n",
      "Epoch 39, CIFAR-10 Batch 3:  Loss is 0.004685, accuracy is 1.000000\n",
      "Epoch 39, CIFAR-10 Batch 4:  Loss is 0.008151, accuracy is 1.000000\n",
      "Epoch 39, CIFAR-10 Batch 5:  Loss is 0.011864, accuracy is 1.000000\n",
      "Epoch 40, CIFAR-10 Batch 1:  Loss is 0.007126, accuracy is 1.000000\n",
      "Epoch 40, CIFAR-10 Batch 2:  Loss is 0.010698, accuracy is 1.000000\n",
      "Epoch 40, CIFAR-10 Batch 3:  Loss is 0.001807, accuracy is 1.000000\n",
      "Epoch 40, CIFAR-10 Batch 4:  Loss is 0.002758, accuracy is 1.000000\n",
      "Epoch 40, CIFAR-10 Batch 5:  Loss is 0.006246, accuracy is 1.000000\n",
      "Epoch 41, CIFAR-10 Batch 1:  Loss is 0.009190, accuracy is 1.000000\n",
      "Epoch 41, CIFAR-10 Batch 2:  Loss is 0.009848, accuracy is 1.000000\n",
      "Epoch 41, CIFAR-10 Batch 3:  Loss is 0.004288, accuracy is 1.000000\n",
      "Epoch 41, CIFAR-10 Batch 4:  Loss is 0.001590, accuracy is 1.000000\n",
      "Epoch 41, CIFAR-10 Batch 5:  Loss is 0.003454, accuracy is 1.000000\n",
      "Epoch 42, CIFAR-10 Batch 1:  Loss is 0.005162, accuracy is 1.000000\n",
      "Epoch 42, CIFAR-10 Batch 2:  Loss is 0.008165, accuracy is 1.000000\n",
      "Epoch 42, CIFAR-10 Batch 3:  Loss is 0.001088, accuracy is 1.000000\n",
      "Epoch 42, CIFAR-10 Batch 4:  Loss is 0.006219, accuracy is 1.000000\n",
      "Epoch 42, CIFAR-10 Batch 5:  Loss is 0.004504, accuracy is 1.000000\n",
      "Epoch 43, CIFAR-10 Batch 1:  Loss is 0.005759, accuracy is 1.000000\n",
      "Epoch 43, CIFAR-10 Batch 2:  Loss is 0.002742, accuracy is 1.000000\n",
      "Epoch 43, CIFAR-10 Batch 3:  Loss is 0.000661, accuracy is 1.000000\n",
      "Epoch 43, CIFAR-10 Batch 4:  Loss is 0.001415, accuracy is 1.000000\n",
      "Epoch 43, CIFAR-10 Batch 5:  Loss is 0.006348, accuracy is 1.000000\n",
      "Epoch 44, CIFAR-10 Batch 1:  Loss is 0.008623, accuracy is 1.000000\n",
      "Epoch 44, CIFAR-10 Batch 2:  Loss is 0.004472, accuracy is 1.000000\n",
      "Epoch 44, CIFAR-10 Batch 3:  Loss is 0.001085, accuracy is 1.000000\n",
      "Epoch 44, CIFAR-10 Batch 4:  Loss is 0.001996, accuracy is 1.000000\n",
      "Epoch 44, CIFAR-10 Batch 5:  Loss is 0.006748, accuracy is 1.000000\n",
      "Epoch 45, CIFAR-10 Batch 1:  Loss is 0.006265, accuracy is 1.000000\n",
      "Epoch 45, CIFAR-10 Batch 2:  Loss is 0.005291, accuracy is 1.000000\n",
      "Epoch 45, CIFAR-10 Batch 3:  Loss is 0.000939, accuracy is 1.000000\n",
      "Epoch 45, CIFAR-10 Batch 4:  Loss is 0.004939, accuracy is 1.000000\n",
      "Epoch 45, CIFAR-10 Batch 5:  Loss is 0.002147, accuracy is 1.000000\n",
      "Epoch 46, CIFAR-10 Batch 1:  Loss is 0.004432, accuracy is 1.000000\n",
      "Epoch 46, CIFAR-10 Batch 2:  Loss is 0.004622, accuracy is 1.000000\n",
      "Epoch 46, CIFAR-10 Batch 3:  Loss is 0.001936, accuracy is 1.000000\n",
      "Epoch 46, CIFAR-10 Batch 4:  Loss is 0.003239, accuracy is 1.000000\n",
      "Epoch 46, CIFAR-10 Batch 5:  Loss is 0.001072, accuracy is 1.000000\n",
      "Epoch 47, CIFAR-10 Batch 1:  Loss is 0.005430, accuracy is 1.000000\n",
      "Epoch 47, CIFAR-10 Batch 2:  Loss is 0.005902, accuracy is 1.000000\n",
      "Epoch 47, CIFAR-10 Batch 3:  Loss is 0.001885, accuracy is 1.000000\n",
      "Epoch 47, CIFAR-10 Batch 4:  Loss is 0.001094, accuracy is 1.000000\n",
      "Epoch 47, CIFAR-10 Batch 5:  Loss is 0.002203, accuracy is 1.000000\n",
      "Epoch 48, CIFAR-10 Batch 1:  Loss is 0.004075, accuracy is 1.000000\n",
      "Epoch 48, CIFAR-10 Batch 2:  Loss is 0.002882, accuracy is 1.000000\n",
      "Epoch 48, CIFAR-10 Batch 3:  Loss is 0.001130, accuracy is 1.000000\n",
      "Epoch 48, CIFAR-10 Batch 4:  Loss is 0.001377, accuracy is 1.000000\n",
      "Epoch 48, CIFAR-10 Batch 5:  Loss is 0.004297, accuracy is 1.000000\n",
      "Epoch 49, CIFAR-10 Batch 1:  Loss is 0.006336, accuracy is 1.000000\n",
      "Epoch 49, CIFAR-10 Batch 2:  Loss is 0.001484, accuracy is 1.000000\n",
      "Epoch 49, CIFAR-10 Batch 3:  Loss is 0.000552, accuracy is 1.000000\n",
      "Epoch 49, CIFAR-10 Batch 4:  Loss is 0.002236, accuracy is 1.000000\n",
      "Epoch 49, CIFAR-10 Batch 5:  Loss is 0.004574, accuracy is 1.000000\n",
      "Epoch 50, CIFAR-10 Batch 1:  Loss is 0.004374, accuracy is 1.000000\n",
      "Epoch 50, CIFAR-10 Batch 2:  Loss is 0.001335, accuracy is 1.000000\n",
      "Epoch 50, CIFAR-10 Batch 3:  Loss is 0.001082, accuracy is 1.000000\n",
      "Epoch 50, CIFAR-10 Batch 4:  Loss is 0.004891, accuracy is 1.000000\n",
      "Epoch 50, CIFAR-10 Batch 5:  Loss is 0.006709, accuracy is 1.000000\n"
     ]
    }
   ],
   "source": [
    "\"\"\"\n",
    "DON'T MODIFY ANYTHING IN THIS CELL\n",
    "\"\"\"\n",
    "save_model_path = './image_classification'\n",
    "\n",
    "print('Training...')\n",
    "with tf.Session() as sess:\n",
    "    # Initializing the variables\n",
    "    sess.run(tf.global_variables_initializer())\n",
    "    \n",
    "    # Training cycle\n",
    "    for epoch in range(epochs):\n",
    "        # Loop over all batches\n",
    "        n_batches = 5\n",
    "        for batch_i in range(1, n_batches + 1):\n",
    "            for batch_features, batch_labels in helper.load_preprocess_training_batch(batch_i, batch_size):\n",
    "                train_neural_network(sess, optimizer, keep_probability, batch_features, batch_labels)\n",
    "            print('Epoch {:>2}, CIFAR-10 Batch {}:  '.format(epoch + 1, batch_i), end='')\n",
    "            print_stats(sess, batch_features, batch_labels, cost, accuracy)\n",
    "            \n",
    "    # Save Model\n",
    "    saver = tf.train.Saver()\n",
    "    save_path = saver.save(sess, save_model_path)"
   ]
  },
  {
   "cell_type": "markdown",
   "metadata": {},
   "source": [
    "# Checkpoint\n",
    "The model has been saved to disk.\n",
    "## Test Model\n",
    "Test your model against the test dataset.  This will be your final accuracy. You should have an accuracy greater than 50%. If you don't, keep tweaking the model architecture and parameters."
   ]
  },
  {
   "cell_type": "code",
   "execution_count": 29,
   "metadata": {
    "collapsed": false
   },
   "outputs": [
    {
     "name": "stdout",
     "output_type": "stream",
     "text": [
      "INFO:tensorflow:Restoring parameters from ./image_classification\n",
      "Testing Accuracy: 0.690234375\n",
      "\n"
     ]
    },
    {
     "data": {
      "image/png": "[encoded data removed]",
      "text/plain": [
       "<matplotlib.figure.Figure at 0x7f9879bd7828>"
      ]
     },
     "metadata": {
      "image/png": {
       "height": 319,
       "width": 355
      }
     },
     "output_type": "display_data"
    }
   ],
   "source": [
    "\"\"\"\n",
    "DON'T MODIFY ANYTHING IN THIS CELL\n",
    "\"\"\"\n",
    "%matplotlib inline\n",
    "%config InlineBackend.figure_format = 'retina'\n",
    "\n",
    "import tensorflow as tf\n",
    "import pickle\n",
    "import helper\n",
    "import random\n",
    "\n",
    "# Set batch size if not already set\n",
    "try:\n",
    "    if batch_size:\n",
    "        pass\n",
    "except NameError:\n",
    "    batch_size = 64\n",
    "\n",
    "save_model_path = './image_classification'\n",
    "n_samples = 4\n",
    "top_n_predictions = 3\n",
    "\n",
    "def test_model():\n",
    "    \"\"\"\n",
    "    Test the saved model against the test dataset\n",
    "    \"\"\"\n",
    "\n",
    "    test_features, test_labels = pickle.load(open('preprocess_training.p', mode='rb'))\n",
    "    loaded_graph = tf.Graph()\n",
    "\n",
    "    with tf.Session(graph=loaded_graph) as sess:\n",
    "        # Load model\n",
    "        loader = tf.train.import_meta_graph(save_model_path + '.meta')\n",
    "        loader.restore(sess, save_model_path)\n",
    "\n",
    "        # Get Tensors from loaded model\n",
    "        loaded_x = loaded_graph.get_tensor_by_name('x:0')\n",
    "        loaded_y = loaded_graph.get_tensor_by_name('y:0')\n",
    "        loaded_keep_prob = loaded_graph.get_tensor_by_name('keep_prob:0')\n",
    "        loaded_logits = loaded_graph.get_tensor_by_name('logits:0')\n",
    "        loaded_acc = loaded_graph.get_tensor_by_name('accuracy:0')\n",
    "        \n",
    "        # Get accuracy in batches for memory limitations\n",
    "        test_batch_acc_total = 0\n",
    "        test_batch_count = 0\n",
    "        \n",
    "        for train_feature_batch, train_label_batch in helper.batch_features_labels(test_features, test_labels, batch_size):\n",
    "            test_batch_acc_total += sess.run(\n",
    "                loaded_acc,\n",
    "                feed_dict={loaded_x: train_feature_batch, loaded_y: train_label_batch, loaded_keep_prob: 1.0})\n",
    "            test_batch_count += 1\n",
    "\n",
    "        print('Testing Accuracy: {}\\n'.format(test_batch_acc_total/test_batch_count))\n",
    "\n",
    "        # Print Random Samples\n",
    "        random_test_features, random_test_labels = tuple(zip(*random.sample(list(zip(test_features, test_labels)), n_samples)))\n",
    "        random_test_predictions = sess.run(\n",
    "            tf.nn.top_k(tf.nn.softmax(loaded_logits), top_n_predictions),\n",
    "            feed_dict={loaded_x: random_test_features, loaded_y: random_test_labels, loaded_keep_prob: 1.0})\n",
    "        helper.display_image_predictions(random_test_features, random_test_labels, random_test_predictions)\n",
    "\n",
    "\n",
    "test_model()"
   ]
  },
  {
   "cell_type": "markdown",
   "metadata": {},
   "source": [
    "## Why 50-80% Accuracy?\n",
    "You might be wondering why you can't get an accuracy any higher. First things first, 50% isn't bad for a simple CNN.  Pure guessing would get you 10% accuracy. That's because there are many more techniques that can be applied to your model and we recemmond that once you are done with this project, you explore!\n",
    "\n",
    "## Submitting This Project\n",
    "When submitting this project, make sure to run all the cells before saving the notebook.  Save the notebook file as \"image_classification.ipynb\" and save it as a HTML file under \"File\" -> \"Download as\".  Include the \"helper.py\" and \"problem_unittests.py\" files in your submission."
   ]
  }
 ],
 "metadata": {
  "kernelspec": {
   "display_name": "Python 3",
   "language": "python",
   "name": "python3"
  },
  "language_info": {
   "codemirror_mode": {
    "name": "ipython",
    "version": 3
   },
   "file_extension": ".py",
   "mimetype": "text/x-python",
   "name": "python",
   "nbconvert_exporter": "python",
   "pygments_lexer": "ipython3",
   "version": "3.6.0"
  }
 },
 "nbformat": 4,
 "nbformat_minor": 1
}
